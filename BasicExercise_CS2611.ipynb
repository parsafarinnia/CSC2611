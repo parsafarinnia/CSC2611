{
  "nbformat": 4,
  "nbformat_minor": 0,
  "metadata": {
    "colab": {
      "name": "BasicExercise CS2611.ipynb",
      "provenance": []
    },
    "kernelspec": {
      "name": "python3",
      "display_name": "Python 3"
    },
    "language_info": {
      "name": "python"
    }
  },
  "cells": [
    {
      "cell_type": "markdown",
      "source": [
        "#Basic Exercise"
      ],
      "metadata": {
        "id": "uPnUoHDW2A0U"
      }
    },
    {
      "cell_type": "markdown",
      "source": [
        "##Setup"
      ],
      "metadata": {
        "id": "Ha9NN1dOvFci"
      }
    },
    {
      "cell_type": "code",
      "execution_count": 2,
      "metadata": {
        "colab": {
          "base_uri": "https://localhost:8080/"
        },
        "id": "gLC3y1OiRUYr",
        "outputId": "3fd6b85f-920a-4100-bae3-adfe67346b13"
      },
      "outputs": [
        {
          "output_type": "stream",
          "name": "stdout",
          "text": [
            "Requirement already satisfied: nltk in /usr/local/lib/python3.7/dist-packages (3.2.5)\n",
            "Requirement already satisfied: six in /usr/local/lib/python3.7/dist-packages (from nltk) (1.15.0)\n"
          ]
        }
      ],
      "source": [
        "!pip install nltk"
      ]
    },
    {
      "cell_type": "code",
      "source": [
        "import pandas as pd\n",
        "import numpy as np\n",
        "import string\n",
        "import re"
      ],
      "metadata": {
        "id": "n5GweX-kRnk4"
      },
      "execution_count": 3,
      "outputs": []
    },
    {
      "cell_type": "code",
      "source": [
        "from nltk.corpus import brown\n",
        "import nltk\n",
        "nltk.download('brown')"
      ],
      "metadata": {
        "id": "IEii075MRrNI",
        "colab": {
          "base_uri": "https://localhost:8080/"
        },
        "outputId": "c5bec020-23f9-48a4-e1bf-3ac6dfa106f5"
      },
      "execution_count": 4,
      "outputs": [
        {
          "output_type": "stream",
          "name": "stdout",
          "text": [
            "[nltk_data] Downloading package brown to /root/nltk_data...\n",
            "[nltk_data]   Unzipping corpora/brown.zip.\n"
          ]
        },
        {
          "output_type": "execute_result",
          "data": {
            "text/plain": [
              "True"
            ]
          },
          "metadata": {},
          "execution_count": 4
        }
      ]
    },
    {
      "cell_type": "markdown",
      "source": [
        "##Step 1"
      ],
      "metadata": {
        "id": "4pyNeoYVvJsd"
      }
    },
    {
      "cell_type": "code",
      "source": [
        "words = brown.words()\n",
        "# regex = re.compile('[^a-zA-Z]')\n",
        "words = [w.lower().translate(str.maketrans('', '', string.punctuation)) for w in words]\n",
        "# words = [w.lower() for w in words]\n",
        "fdist = nltk.FreqDist(words)"
      ],
      "metadata": {
        "id": "8EK29jXViFjz"
      },
      "execution_count": 5,
      "outputs": []
    },
    {
      "cell_type": "markdown",
      "source": [
        "##Step 2"
      ],
      "metadata": {
        "id": "2Sm9z00bvRk9"
      }
    },
    {
      "cell_type": "code",
      "source": [
        "fdist_sorted=sorted(fdist.items(), key=lambda x: x[1], reverse=True)\n",
        "del fdist_sorted[0]\n",
        "size_of_brown = 0\n",
        "for i in fdist_sorted:\n",
        "  size_of_brown+=i[1]\n",
        "to_5k = fdist_sorted[:5000]"
      ],
      "metadata": {
        "id": "89BHMLN2iXqv"
      },
      "execution_count": 6,
      "outputs": []
    },
    {
      "cell_type": "code",
      "source": [
        "to_5k[:5]"
      ],
      "metadata": {
        "colab": {
          "base_uri": "https://localhost:8080/"
        },
        "id": "o7G9gO6sVbTl",
        "outputId": "309390b6-7f94-401b-c4f9-74eeff73af1d"
      },
      "execution_count": 7,
      "outputs": [
        {
          "output_type": "execute_result",
          "data": {
            "text/plain": [
              "[('the', 69971), ('of', 36412), ('and', 28853), ('to', 26158), ('a', 23308)]"
            ]
          },
          "metadata": {},
          "execution_count": 7
        }
      ]
    },
    {
      "cell_type": "code",
      "source": [
        "to_5k[-5:]"
      ],
      "metadata": {
        "colab": {
          "base_uri": "https://localhost:8080/"
        },
        "id": "gitZxA0igAbI",
        "outputId": "d6f1696c-3568-416e-afac-24344eecd8c8"
      },
      "execution_count": 8,
      "outputs": [
        {
          "output_type": "execute_result",
          "data": {
            "text/plain": [
              "[('peered', 20), ('crawled', 20), ('nude', 20), ('okay', 20), ('borden', 20)]"
            ]
          },
          "metadata": {},
          "execution_count": 8
        }
      ]
    },
    {
      "cell_type": "code",
      "source": [
        "dict_brown = {}\n",
        "for item in fdist_sorted:\n",
        "  dict_brown[item[0]] = item[1]"
      ],
      "metadata": {
        "id": "eBZv3hOBeZrB"
      },
      "execution_count": 9,
      "outputs": []
    },
    {
      "cell_type": "code",
      "source": [
        "size_of_brown"
      ],
      "metadata": {
        "colab": {
          "base_uri": "https://localhost:8080/"
        },
        "id": "jZyH41EncuiD",
        "outputId": "092ce078-59b5-464d-e457-0783ac3d195a"
      },
      "execution_count": 10,
      "outputs": [
        {
          "output_type": "execute_result",
          "data": {
            "text/plain": [
              "1013319"
            ]
          },
          "metadata": {},
          "execution_count": 10
        }
      ]
    },
    {
      "cell_type": "code",
      "source": [
        "W =[]\n",
        "for word in to_5k:\n",
        "  if word[0] not in W:\n",
        "    W.append(word[0])"
      ],
      "metadata": {
        "id": "oXPWK8nxjMiH"
      },
      "execution_count": 11,
      "outputs": []
    },
    {
      "cell_type": "code",
      "source": [
        "W.index('boy')"
      ],
      "metadata": {
        "colab": {
          "base_uri": "https://localhost:8080/"
        },
        "id": "gKJjRmHuTLAo",
        "outputId": "4fa97a10-df0c-422e-8b54-ed78acc3eeaa"
      },
      "execution_count": 12,
      "outputs": [
        {
          "output_type": "execute_result",
          "data": {
            "text/plain": [
              "386"
            ]
          },
          "metadata": {},
          "execution_count": 12
        }
      ]
    },
    {
      "cell_type": "code",
      "source": [
        "len(W)"
      ],
      "metadata": {
        "colab": {
          "base_uri": "https://localhost:8080/"
        },
        "id": "Sw9rmhd-Uo5j",
        "outputId": "0046f845-e2b4-45bf-ebcf-d20d7a07a3e7"
      },
      "execution_count": 13,
      "outputs": [
        {
          "output_type": "execute_result",
          "data": {
            "text/plain": [
              "5000"
            ]
          },
          "metadata": {},
          "execution_count": 13
        }
      ]
    },
    {
      "cell_type": "code",
      "source": [
        "RG56 = [['cord', 'smile', 0.02],\n",
        "          ['rooster', 'voyage', 0.04],\n",
        "          ['noon', 'string', 0.04],\n",
        "          ['fruit', 'furnace', 0.05],\n",
        "          ['autograph', 'shore', 0.06],\n",
        "          ['automobile', 'wizard', 0.11],\n",
        "          ['mound', 'stove', 0.14],\n",
        "          ['grin', 'implement', 0.18],\n",
        "          ['asylum', 'fruit', 0.19],\n",
        "          ['asylum', 'monk', 0.39],\n",
        "          ['graveyard', 'madhouse', 0.42],\n",
        "          ['glass', 'magician', 0.44],\n",
        "          ['boy', 'rooster', 0.44],\n",
        "          ['cushion', 'jewel', 0.45],\n",
        "          ['monk', 'slave', 0.57],\n",
        "          ['asylum', 'cemetery', 0.79],\n",
        "          ['coast', 'forest', 0.85],\n",
        "          ['grin', 'lad', 0.88],\n",
        "          ['shore', 'woodland', 0.90],\n",
        "          ['monk', 'oracle', 0.91],\n",
        "          ['boy', 'sage', 0.96],\n",
        "          ['automobile', 'cushion', 0.97],\n",
        "          ['mound', 'shore', 0.97],\n",
        "          ['lad', 'wizard', 0.99],\n",
        "          ['forest', 'graveyard', 1.00],\n",
        "          ['food', 'rooster', 1.09],\n",
        "          ['cemetery', 'woodland', 1.18],\n",
        "          ['shore', 'voyage', 1.22],\n",
        "          ['bird', 'woodland', 1.24],\n",
        "          ['coast', 'hill', 1.26],\n",
        "          ['furnace', 'implement', 1.37],\n",
        "          ['crane', 'rooster', 1.41],\n",
        "          ['hill', 'woodland', 1.48],\n",
        "          ['car', 'journey', 1.55],\n",
        "          ['cemetery', 'mound', 1.69],\n",
        "          ['glass', 'jewel', 1.78],\n",
        "          ['magician', 'oracle', 1.82],\n",
        "          ['crane', 'implement', 2.37],\n",
        "          ['brother', 'lad', 2.41],\n",
        "          ['sage', 'wizard', 2.46],\n",
        "          ['oracle', 'sage', 2.61],\n",
        "          ['bird', 'crane', 2.63],\n",
        "          ['bird', 'cock', 2.63],\n",
        "          ['food', 'fruit', 2.69],\n",
        "          ['brother', 'monk', 2.74],\n",
        "          ['asylum', 'madhouse', 3.04],\n",
        "          ['furnace', 'stove', 3.11],\n",
        "          ['magician', 'wizard', 3.21],\n",
        "          ['hill', 'mound', 3.29],\n",
        "          ['cord', 'string', 3.41],\n",
        "          ['glass', 'tumbler', 3.45],\n",
        "          ['grin', 'smile', 3.46],\n",
        "          ['serf', 'slave', 3.46],\n",
        "          ['journey', 'voyage', 3.58],\n",
        "          ['autograph', 'signature', 3.59],\n",
        "          ['coast', 'shore', 3.60],\n",
        "          ['forest', 'woodland', 3.65],\n",
        "          ['implement', 'tool', 3.66],\n",
        "          ['cock', 'rooster', 3.68],\n",
        "          ['boy', 'lad', 3.82],\n",
        "          ['cushion', 'pillow', 3.84],\n",
        "          ['cemetery', 'graveyard', 3.88],\n",
        "          ['automobile', 'car', 3.92],\n",
        "          ['midday', 'noon', 3.94],\n",
        "          ['gem', 'jewel', 3.94]]"
      ],
      "metadata": {
        "id": "lI9O7176k8dx"
      },
      "execution_count": 14,
      "outputs": []
    },
    {
      "cell_type": "code",
      "source": [
        "RG56_words = []\n",
        "for item in RG56:\n",
        "  RG56_words.append(item[0])\n",
        "  RG56_words.append(item[1])\n",
        "RG56_words = list(set(RG56_words))"
      ],
      "metadata": {
        "id": "H5PsBuPGln4t"
      },
      "execution_count": 15,
      "outputs": []
    },
    {
      "cell_type": "code",
      "source": [
        "len(RG56_words)"
      ],
      "metadata": {
        "colab": {
          "base_uri": "https://localhost:8080/"
        },
        "id": "KkdZQlZ3hJLK",
        "outputId": "cdd59251-f02d-4633-976e-5dc9d372890f"
      },
      "execution_count": 16,
      "outputs": [
        {
          "output_type": "execute_result",
          "data": {
            "text/plain": [
              "48"
            ]
          },
          "metadata": {},
          "execution_count": 16
        }
      ]
    },
    {
      "cell_type": "code",
      "source": [
        "W=W+RG56_words\n",
        "W = list(set(W))"
      ],
      "metadata": {
        "id": "PY2_HU_-qKh_"
      },
      "execution_count": 17,
      "outputs": []
    },
    {
      "cell_type": "code",
      "source": [
        "len(W)"
      ],
      "metadata": {
        "colab": {
          "base_uri": "https://localhost:8080/"
        },
        "id": "ZWEnd6FVhiPJ",
        "outputId": "26a0e48d-eb99-4b31-df4e-8cdbd7ee02cd"
      },
      "execution_count": 18,
      "outputs": [
        {
          "output_type": "execute_result",
          "data": {
            "text/plain": [
              "5031"
            ]
          },
          "metadata": {},
          "execution_count": 18
        }
      ]
    },
    {
      "cell_type": "markdown",
      "source": [
        "##Setup 3"
      ],
      "metadata": {
        "id": "MSQZK4pMvNMd"
      }
    },
    {
      "cell_type": "code",
      "source": [
        "from collections import Counter\n",
        "from nltk.util import ngrams\n",
        "\n",
        "n = 2\n",
        "bigrams = ngrams(words, n)\n",
        "bigrams_freq = Counter(bigrams)"
      ],
      "metadata": {
        "id": "tYzoqtzlsPD-"
      },
      "execution_count": 19,
      "outputs": []
    },
    {
      "cell_type": "code",
      "source": [
        "from scipy.sparse import lil_matrix\n",
        "Wlen = len(W)\n",
        "M1 = lil_matrix((Wlen,Wlen))"
      ],
      "metadata": {
        "id": "Gj52YAioz11K"
      },
      "execution_count": 20,
      "outputs": []
    },
    {
      "cell_type": "code",
      "source": [
        "M1.shape"
      ],
      "metadata": {
        "colab": {
          "base_uri": "https://localhost:8080/"
        },
        "id": "HhFKzoHH00aC",
        "outputId": "76d01013-62f0-4a49-f45b-13e3aac519b9"
      },
      "execution_count": 21,
      "outputs": [
        {
          "output_type": "execute_result",
          "data": {
            "text/plain": [
              "(5031, 5031)"
            ]
          },
          "metadata": {},
          "execution_count": 21
        }
      ]
    },
    {
      "cell_type": "code",
      "source": [
        "for i in range(Wlen): \n",
        "  for j in range(Wlen):\n",
        "    if (W[i],W[j]) in bigrams_freq:\n",
        "      M1[i,j] = bigrams_freq[(W[i],W[j])]"
      ],
      "metadata": {
        "id": "rlrwEKBq01WK"
      },
      "execution_count": 22,
      "outputs": []
    },
    {
      "cell_type": "code",
      "source": [
        "M1.sum()"
      ],
      "metadata": {
        "colab": {
          "base_uri": "https://localhost:8080/"
        },
        "id": "Nw4BqkAvZ3Kg",
        "outputId": "9d30a2e6-e03d-4c51-c71a-c39f000c2e0d"
      },
      "execution_count": 23,
      "outputs": [
        {
          "output_type": "execute_result",
          "data": {
            "text/plain": [
              "671463.0"
            ]
          },
          "metadata": {},
          "execution_count": 23
        }
      ]
    },
    {
      "cell_type": "markdown",
      "source": [
        "##Step 4\n",
        "PMI from https://web.eecs.umich.edu/~wangluxy/archive/neu_courses/cs6120_sp2018/slides_cs6120_sp18/semantics_part1.pdf"
      ],
      "metadata": {
        "id": "nJ4TagVi19WM"
      }
    },
    {
      "cell_type": "code",
      "source": [
        "import math\n",
        "import scipy.sparse\n",
        "import random\n",
        "import itertools\n",
        "\n",
        "pij = 0\n",
        "pi = 0\n",
        "pj = 0\n",
        "M1_plus = lil_matrix((Wlen,Wlen))\n",
        "new_size = M1.sum()\n",
        "rows_sum = M1.sum(axis=0)\n",
        "columns_sum = M1.sum(axis=1)\n",
        "columns_sum_list=columns_sum.tolist()\n",
        "rows_sum_list = rows_sum.T.tolist()\n",
        "M1 = M1.tocoo()\n",
        "for i,j,v in zip(M1.row, M1.col, M1.data):\n",
        "  pi = (rows_sum_list[i][0]+1)/new_size\n",
        "  pj = (columns_sum_list[j][0]+1)/new_size\n",
        "  pij = v/new_size\n",
        "  M1_plus[i,j] += max((math.log(pij)-math.log(pi*pj)),0)"
      ],
      "metadata": {
        "id": "XYSqlJx8tzUG"
      },
      "execution_count": 24,
      "outputs": []
    },
    {
      "cell_type": "code",
      "source": [
        "rows_sum_list[5]"
      ],
      "metadata": {
        "colab": {
          "base_uri": "https://localhost:8080/"
        },
        "id": "-fea02j_wWbD",
        "outputId": "de895dbd-6954-44f6-bba3-ecc8e9443cd0"
      },
      "execution_count": 25,
      "outputs": [
        {
          "output_type": "execute_result",
          "data": {
            "text/plain": [
              "[378.0]"
            ]
          },
          "metadata": {},
          "execution_count": 25
        }
      ]
    },
    {
      "cell_type": "code",
      "source": [
        "# import math\n",
        "# import scipy.sparse\n",
        "# import random\n",
        "# import itertools\n",
        "# pij = 0\n",
        "# pi = 0\n",
        "# pj = 0\n",
        "# M1_plus = np.zeros(shape=(Wlen,Wlen))\n",
        "# new_size = M1.sum()\n",
        "# rows_sum = M1.sum(axis=0)\n",
        "# columns_sum = M1.sum(axis=1)\n",
        "# columns_sum_list=columns_sum.tolist()\n",
        "# rows_sum_list = rows_sum.T.tolist()\n",
        "# for i in range(Wlen):\n",
        "#   pi = rows_sum_list[i]/new_size\n",
        "#   for j in range(Wlen):\n",
        "#     pj = columns_sum_list[j]/new_size\n",
        "#     if M1[i,j] != 0 or M1[j,i] != 0 :\n",
        "#       pij = (M1[i,j]+M1[j,i])/new_size\n",
        "#       print('-i is: ',i,' -j is :',j,' -pj is :',pj)\n",
        "#       M1_plus[i,j] = max((math.log(pij)-math.log(pi*pj)),0)"
      ],
      "metadata": {
        "id": "jDn7J4rQojjE"
      },
      "execution_count": 26,
      "outputs": []
    },
    {
      "cell_type": "code",
      "source": [
        "print(W[2408])"
      ],
      "metadata": {
        "colab": {
          "base_uri": "https://localhost:8080/"
        },
        "id": "hhT8Z42PnKHd",
        "outputId": "91a8f144-972b-4e9d-df8f-4e85b98c0930"
      },
      "execution_count": 27,
      "outputs": [
        {
          "output_type": "stream",
          "name": "stdout",
          "text": [
            "target\n"
          ]
        }
      ]
    },
    {
      "cell_type": "code",
      "source": [
        "# import math\n",
        "# pij = 0\n",
        "# pi = 0\n",
        "# pj = 0\n",
        "# M1_plus = lil_matrix((Wlen,Wlen))\n",
        "# for i in range(Wlen):\n",
        "#   pi = dict_brown[W[i]]/size_of_brown\n",
        "#   for j in range(Wlen):\n",
        "#     pj = dict_brown[W[j]]/size_of_brown\n",
        "#     pij = (M1[i,j]+M1[j,i])/(size_of_brown-1)\n",
        "#     if pij==0:\n",
        "#       M1_plus[i,j]=0\n",
        "#     else:\n",
        "#       M1_plus[i,j] = max((math.log(pij)-math.log(pi*pj)),0)"
      ],
      "metadata": {
        "id": "woJS2mEV1VtH"
      },
      "execution_count": 28,
      "outputs": []
    },
    {
      "cell_type": "code",
      "source": [
        "M1_plus.shape"
      ],
      "metadata": {
        "colab": {
          "base_uri": "https://localhost:8080/"
        },
        "id": "I78lP_gd7CBm",
        "outputId": "e6b80ab2-5e65-4f24-9fb9-b80f2f73c959"
      },
      "execution_count": 29,
      "outputs": [
        {
          "output_type": "execute_result",
          "data": {
            "text/plain": [
              "(5031, 5031)"
            ]
          },
          "metadata": {},
          "execution_count": 29
        }
      ]
    },
    {
      "cell_type": "markdown",
      "source": [
        "##Step 5"
      ],
      "metadata": {
        "id": "62EBC4n3EXq1"
      }
    },
    {
      "cell_type": "code",
      "source": [
        "#PCA does not support sparse input. See TruncatedSVD for a possible alternative\n",
        "from sklearn.decomposition import TruncatedSVD\n",
        "\n",
        "SVD10 = TruncatedSVD(n_components=10)\n",
        "M2_10 = SVD10.fit_transform(M1_plus)\n",
        "SVD100 = TruncatedSVD(n_components=100)\n",
        "M2_100 = SVD100.fit_transform(M1_plus)\n",
        "SVD300 = TruncatedSVD(n_components=300)\n",
        "M2_300 = SVD300.fit_transform(M1_plus)"
      ],
      "metadata": {
        "id": "EASPaxoyEVK4"
      },
      "execution_count": 30,
      "outputs": []
    },
    {
      "cell_type": "code",
      "source": [
        "M2_300[1,5]"
      ],
      "metadata": {
        "colab": {
          "base_uri": "https://localhost:8080/"
        },
        "id": "OsUA7vPO8U7A",
        "outputId": "027fd2a1-d889-4122-a56d-5435a0ed922e"
      },
      "execution_count": 31,
      "outputs": [
        {
          "output_type": "execute_result",
          "data": {
            "text/plain": [
              "-0.027567311867295087"
            ]
          },
          "metadata": {},
          "execution_count": 31
        }
      ]
    },
    {
      "cell_type": "markdown",
      "source": [
        "##Step 6"
      ],
      "metadata": {
        "id": "jjhdgSp1rQhX"
      }
    },
    {
      "cell_type": "code",
      "source": [
        "S = RG56\n",
        "P = [(w1,w2) for w1,w2,score in RG56]"
      ],
      "metadata": {
        "id": "FnAvveTNrP0c"
      },
      "execution_count": 32,
      "outputs": []
    },
    {
      "cell_type": "markdown",
      "source": [
        "##Step 7"
      ],
      "metadata": {
        "id": "os_ej2AXt-Na"
      }
    },
    {
      "cell_type": "code",
      "source": [
        "M1 = M1.tocsr()\n",
        "M1_plus = M1_plus.tocsr()"
      ],
      "metadata": {
        "id": "Jdv-WaxMxEGw"
      },
      "execution_count": 33,
      "outputs": []
    },
    {
      "cell_type": "code",
      "source": [
        "from sklearn.metrics.pairwise import cosine_similarity\n",
        "SM1 = [(w1,w2,cosine_similarity(M1[W.index(w1),:],M1[W.index(w2),:])) for w1,w2 in P]"
      ],
      "metadata": {
        "id": "kFuQWxgu3UiB"
      },
      "execution_count": 34,
      "outputs": []
    },
    {
      "cell_type": "code",
      "source": [
        "from sklearn.metrics.pairwise import cosine_similarity\n",
        "SM1 = [(w1,w2,cosine_similarity(M1[W.index(w1)],M1[W.index(w2)])) for w1,w2 in P]\n",
        "SM1_plus = [(w1,w2,cosine_similarity(M1_plus[W.index(w1)],M1_plus[W.index(w2)])[0][0]) for w1,w2 in P]\n",
        "SM2_10 = [(w1,w2,cosine_similarity(M2_10[W.index(w1)].reshape(1, -1),M2_10[W.index(w2)].reshape(1, -1))[0][0]) for w1,w2 in P]\n",
        "SM2_100 = [(w1,w2,cosine_similarity(M2_100[W.index(w1)].reshape(1, -1),M2_100[W.index(w2)].reshape(1, -1))[0][0]) for w1,w2 in P]\n",
        "# SM2_200 = [(w1,w2,cosine_similarity(M2_200[W.index(w1)].reshape(1, -1),M2_200[W.index(w2)].reshape(1, -1))[0][0]) for w1,w2 in P]\n",
        "SM2_300 = [(w1,w2,cosine_similarity(M2_300[W.index(w1)].reshape(1, -1),M2_300[W.index(w2)].reshape(1, -1))[0][0]) for w1,w2 in P]"
      ],
      "metadata": {
        "id": "RSoBAMkrt8gI"
      },
      "execution_count": 35,
      "outputs": []
    },
    {
      "cell_type": "markdown",
      "source": [
        "##Step 8"
      ],
      "metadata": {
        "id": "_RmQahZS1Mav"
      }
    },
    {
      "cell_type": "code",
      "source": [
        "from scipy.stats import pearsonr\n",
        "print('Pearson correlation between s and human-judged reports:')\n",
        "print('Pearson for SM1: ',pearsonr([float(score) for w1,w2,score in SM1],[score for w1,w2,score in S]))\n",
        "print('Pearson for SM1_plus: ',pearsonr([float(score) for w1,w2,score in SM1_plus],[score for w1,w2,score in S]))\n",
        "print('Pearson for SM2_10 : ',pearsonr([float(score) for w1,w2,score in SM2_10 ],[score for w1,w2,score in S]))\n",
        "print('Pearson for SM2_100 : ',pearsonr([float(score) for w1,w2,score in SM2_100 ],[score for w1,w2,score in S]))\n",
        "# print('Pearson for SM2_200: ',pearsonr([float(score) for w1,w2,score in SM2_200],[score for w1,w2,score in S]))\n",
        "print('Pearson for SM2_300: ',pearsonr([float(score) for w1,w2,score in SM2_300],[score for w1,w2,score in S]))"
      ],
      "metadata": {
        "id": "QUcYiEpM0efQ",
        "colab": {
          "base_uri": "https://localhost:8080/"
        },
        "outputId": "0a7ef6bc-f84b-47cc-c3ff-b62700c5b1c4"
      },
      "execution_count": 36,
      "outputs": [
        {
          "output_type": "stream",
          "name": "stdout",
          "text": [
            "Pearson correlation between s and human-judged reports:\n",
            "Pearson for SM1:  (0.3079205548078232, 0.012584419786834151)\n",
            "Pearson for SM1_plus:  (0.17470666259418635, 0.16394322869902803)\n",
            "Pearson for SM2_10 :  (0.021615562148500904, 0.8642955164953214)\n",
            "Pearson for SM2_100 :  (0.30914146702819717, 0.01222003427089195)\n",
            "Pearson for SM2_300:  (0.2918791794460514, 0.01831595025221078)\n"
          ]
        }
      ]
    },
    {
      "cell_type": "markdown",
      "source": [
        "#Lab 1"
      ],
      "metadata": {
        "id": "ayj1X6oG7wqv"
      }
    },
    {
      "cell_type": "markdown",
      "source": [
        "##Analogy test"
      ],
      "metadata": {
        "id": "E_ZBJlDFzCQI"
      }
    },
    {
      "cell_type": "markdown",
      "source": [
        "###Step 1"
      ],
      "metadata": {
        "id": "UxAVlyzPJ8vV"
      }
    },
    {
      "cell_type": "code",
      "source": [
        "!brew install wget\n",
        "!wget -c \"https://s3.amazonaws.com/dl4j-distribution/GoogleNews-vectors-negative300.bin.gz\"\n",
        "!gzip -d GoogleNews-vectors-negative300.bin.gz\n"
      ],
      "metadata": {
        "id": "q-JvKYQv-VPq",
        "colab": {
          "base_uri": "https://localhost:8080/"
        },
        "outputId": "d6eae531-d5ef-473c-d298-e4ef01433c54"
      },
      "execution_count": 49,
      "outputs": [
        {
          "output_type": "stream",
          "name": "stdout",
          "text": [
            "/bin/bash: brew: command not found\n",
            "--2022-02-07 04:50:22--  https://s3.amazonaws.com/dl4j-distribution/GoogleNews-vectors-negative300.bin.gz\n",
            "Resolving s3.amazonaws.com (s3.amazonaws.com)... 54.231.198.80\n",
            "Connecting to s3.amazonaws.com (s3.amazonaws.com)|54.231.198.80|:443... connected.\n",
            "HTTP request sent, awaiting response... 416 Requested Range Not Satisfiable\n",
            "\n",
            "    The file is already fully retrieved; nothing to do.\n",
            "\n"
          ]
        }
      ]
    },
    {
      "cell_type": "markdown",
      "source": [
        "###Step 2"
      ],
      "metadata": {
        "id": "WJitk3KxKAif"
      }
    },
    {
      "cell_type": "code",
      "source": [
        "from gensim.models import KeyedVectors\n",
        "model = KeyedVectors.load_word2vec_format('GoogleNews-vectors-negative300.bin', binary=True)\n"
      ],
      "metadata": {
        "id": "Uu054RUqDiJy"
      },
      "execution_count": 50,
      "outputs": []
    },
    {
      "cell_type": "code",
      "source": [
        "np.concatenate([model['dog'].reshape(1,-1),model['cat'].reshape(1,-1)],axis=0).shape\n",
        "\n"
      ],
      "metadata": {
        "colab": {
          "base_uri": "https://localhost:8080/"
        },
        "id": "D3-PxU7sJn40",
        "outputId": "44c0cd69-eea1-4d0b-b54c-4e18cc5a7359"
      },
      "execution_count": 51,
      "outputs": [
        {
          "output_type": "execute_result",
          "data": {
            "text/plain": [
              "(2, 300)"
            ]
          },
          "metadata": {},
          "execution_count": 51
        }
      ]
    },
    {
      "cell_type": "markdown",
      "source": [
        "###Step 3"
      ],
      "metadata": {
        "id": "7moWHO2dKDvt"
      }
    },
    {
      "cell_type": "code",
      "source": [
        "w2v_cosine_sim = [[w1,w2,cosine_similarity(model[w1].reshape(1, -1),model[w2].reshape(1, -1))[0][0]] for w1,w2 in P]"
      ],
      "metadata": {
        "id": "QkH9pg0rG2DB"
      },
      "execution_count": 52,
      "outputs": []
    },
    {
      "cell_type": "code",
      "source": [
        "w2v_cosine_sim[-5:]"
      ],
      "metadata": {
        "id": "So6auwqEIiLp",
        "colab": {
          "base_uri": "https://localhost:8080/"
        },
        "outputId": "19681ed9-f46e-48ea-f034-326b0e6df38a"
      },
      "execution_count": 53,
      "outputs": [
        {
          "output_type": "execute_result",
          "data": {
            "text/plain": [
              "[['cushion', 'pillow', 0.25161517],\n",
              " ['cemetery', 'graveyard', 0.6424807],\n",
              " ['automobile', 'car', 0.58383685],\n",
              " ['midday', 'noon', 0.5527407],\n",
              " ['gem', 'jewel', 0.6210811]]"
            ]
          },
          "metadata": {},
          "execution_count": 53
        }
      ]
    },
    {
      "cell_type": "code",
      "source": [
        "print('Pearson for human judged and word2vec: ',pearsonr([float(score) for w1,w2,score in w2v_cosine_sim],[score for w1,w2,score in S]))\n",
        "print('Pearson for human judged and SM2_300: ',pearsonr([float(score) for w1,w2,score in SM2_300],[score for w1,w2,score in S]))\n",
        "print('Pearson for word2vec and SM2_300: ',pearsonr([float(score) for w1,w2,score in SM2_300],[float(score) for w1,w2,score in w2v_cosine_sim]))"
      ],
      "metadata": {
        "id": "dYfs1Hs8Iylb",
        "colab": {
          "base_uri": "https://localhost:8080/"
        },
        "outputId": "73407162-d591-44a7-d414-3b66c4ee2c80"
      },
      "execution_count": 54,
      "outputs": [
        {
          "output_type": "stream",
          "name": "stdout",
          "text": [
            "Pearson for human judged and word2vec:  (0.7720616125197682, 5.091065805872837e-14)\n",
            "Pearson for human judged and SM2_300:  (0.2918791794460514, 0.01831595025221078)\n",
            "Pearson for word2vec and SM2_300:  (0.3392222331813933, 0.005704332625531111)\n"
          ]
        }
      ]
    },
    {
      "cell_type": "markdown",
      "source": [
        "###Step 4"
      ],
      "metadata": {
        "id": "2vUlzuMeK38F"
      }
    },
    {
      "cell_type": "code",
      "source": [
        "!wget -c http://www.fit.vutbr.cz/~imikolov/rnnlm/word-test.v1.txt"
      ],
      "metadata": {
        "id": "uLhl4k8_JmXH",
        "colab": {
          "base_uri": "https://localhost:8080/"
        },
        "outputId": "f0a97f91-e9a9-45c7-f8e7-23f96c29edf2"
      },
      "execution_count": 55,
      "outputs": [
        {
          "output_type": "stream",
          "name": "stdout",
          "text": [
            "--2022-02-07 04:53:16--  http://www.fit.vutbr.cz/~imikolov/rnnlm/word-test.v1.txt\n",
            "Resolving www.fit.vutbr.cz (www.fit.vutbr.cz)... 147.229.9.23, 2001:67c:1220:809::93e5:917\n",
            "Connecting to www.fit.vutbr.cz (www.fit.vutbr.cz)|147.229.9.23|:80... connected.\n",
            "HTTP request sent, awaiting response... 200 OK\n",
            "Length: 609126 (595K) [text/plain]\n",
            "Saving to: ‘word-test.v1.txt’\n",
            "\n",
            "word-test.v1.txt    100%[===================>] 594.85K   555KB/s    in 1.1s    \n",
            "\n",
            "2022-02-07 04:53:18 (555 KB/s) - ‘word-test.v1.txt’ saved [609126/609126]\n",
            "\n"
          ]
        }
      ]
    },
    {
      "cell_type": "code",
      "source": [
        "file1 = open('/content/word-test.v1.txt', 'r')\n",
        "Lines = file1.readlines()\n",
        "count = 0\n",
        "a = []\n",
        "for line in Lines:\n",
        "    count += 1\n",
        "    a.append(line.strip())"
      ],
      "metadata": {
        "id": "yL7fcQHK16Z2"
      },
      "execution_count": 56,
      "outputs": []
    },
    {
      "cell_type": "code",
      "source": [
        "all_analogy = []\n",
        "i = 0\n",
        "j=0\n",
        "analogy_cat = []\n",
        "for line in a:\n",
        "  if line.startswith(':'):\n",
        "    analogy_cat.append(([line],i))\n",
        "  if not(line.startswith(':')) or not(line.startswith('//')):\n",
        "    analogy_words = line.split()\n",
        "    all_analogy.append(analogy_words)\n",
        "  i+=1"
      ],
      "metadata": {
        "id": "k0wesq8n2kvm"
      },
      "execution_count": 57,
      "outputs": []
    },
    {
      "cell_type": "code",
      "source": [
        "analogy_cat"
      ],
      "metadata": {
        "colab": {
          "base_uri": "https://localhost:8080/"
        },
        "id": "DTMMm9wZt__P",
        "outputId": "555a38c5-453e-48cc-af29-86c0153cbe52"
      },
      "execution_count": 58,
      "outputs": [
        {
          "output_type": "execute_result",
          "data": {
            "text/plain": [
              "[([': capital-common-countries'], 1),\n",
              " ([': capital-world'], 508),\n",
              " ([': currency'], 5033),\n",
              " ([': city-in-state'], 5900),\n",
              " ([': family'], 8368),\n",
              " ([': gram1-adjective-to-adverb'], 8875),\n",
              " ([': gram2-opposite'], 9868),\n",
              " ([': gram3-comparative'], 10681),\n",
              " ([': gram4-superlative'], 12014),\n",
              " ([': gram5-present-participle'], 13137),\n",
              " ([': gram6-nationality-adjective'], 14194),\n",
              " ([': gram7-past-tense'], 15794),\n",
              " ([': gram8-plural'], 17355),\n",
              " ([': gram9-plural-verbs'], 18688)]"
            ]
          },
          "metadata": {},
          "execution_count": 58
        }
      ]
    },
    {
      "cell_type": "code",
      "source": [
        "size = len(all_analogy)\n",
        "cat_map = [(0,0) for item in analogy_cat]\n",
        "for i in range(1,len(analogy_cat)):\n",
        "  cat_map[i-1] = (analogy_cat[i-1][0],analogy_cat[i-1][1],analogy_cat[i][1]-1)\n",
        "cat_map[-1] = (analogy_cat[-1][0],analogy_cat[-1][1],size-1)"
      ],
      "metadata": {
        "id": "gHSAH9bSpFda"
      },
      "execution_count": 59,
      "outputs": []
    },
    {
      "cell_type": "code",
      "source": [
        "cat_map"
      ],
      "metadata": {
        "colab": {
          "base_uri": "https://localhost:8080/"
        },
        "id": "1YHQVd3Ft1zd",
        "outputId": "e34e8526-96b8-46cd-810c-3753a16657e0"
      },
      "execution_count": 60,
      "outputs": [
        {
          "output_type": "execute_result",
          "data": {
            "text/plain": [
              "[([': capital-common-countries'], 1, 507),\n",
              " ([': capital-world'], 508, 5032),\n",
              " ([': currency'], 5033, 5899),\n",
              " ([': city-in-state'], 5900, 8367),\n",
              " ([': family'], 8368, 8874),\n",
              " ([': gram1-adjective-to-adverb'], 8875, 9867),\n",
              " ([': gram2-opposite'], 9868, 10680),\n",
              " ([': gram3-comparative'], 10681, 12013),\n",
              " ([': gram4-superlative'], 12014, 13136),\n",
              " ([': gram5-present-participle'], 13137, 14193),\n",
              " ([': gram6-nationality-adjective'], 14194, 15793),\n",
              " ([': gram7-past-tense'], 15794, 17354),\n",
              " ([': gram8-plural'], 17355, 18687),\n",
              " ([': gram9-plural-verbs'], 18688, 19558)]"
            ]
          },
          "metadata": {},
          "execution_count": 60
        }
      ]
    },
    {
      "cell_type": "code",
      "source": [
        "len(all_analogy)"
      ],
      "metadata": {
        "colab": {
          "base_uri": "https://localhost:8080/"
        },
        "id": "czYp7L8d4vk3",
        "outputId": "72277d6d-c9bf-4729-a61a-e6fa23320092"
      },
      "execution_count": 61,
      "outputs": [
        {
          "output_type": "execute_result",
          "data": {
            "text/plain": [
              "19559"
            ]
          },
          "metadata": {},
          "execution_count": 61
        }
      ]
    },
    {
      "cell_type": "code",
      "source": [
        "available_analogy = []\n",
        "cat_map_available = []\n",
        "for count ,analogy in enumerate(all_analogy):\n",
        "  result =  all(elem in W  for elem in analogy)\n",
        "  if result:\n",
        "    if count < 8874:\n",
        "      cat_map_available.append('semantic')\n",
        "    else:\n",
        "      cat_map_available.append('syntetic')\n",
        "    available_analogy.append(analogy)"
      ],
      "metadata": {
        "id": "icT5v-wD36o8"
      },
      "execution_count": 62,
      "outputs": []
    },
    {
      "cell_type": "code",
      "source": [
        "len(cat_map_available)"
      ],
      "metadata": {
        "colab": {
          "base_uri": "https://localhost:8080/"
        },
        "id": "IuP18Bdk44TR",
        "outputId": "ac96df09-0aac-4504-98c9-2c929524aa2c"
      },
      "execution_count": 63,
      "outputs": [
        {
          "output_type": "execute_result",
          "data": {
            "text/plain": [
              "2082"
            ]
          },
          "metadata": {},
          "execution_count": 63
        }
      ]
    },
    {
      "cell_type": "code",
      "source": [
        "cat_map_available.index('syntetic')"
      ],
      "metadata": {
        "colab": {
          "base_uri": "https://localhost:8080/"
        },
        "id": "kMfL79Tjw-lC",
        "outputId": "3736637b-9b8c-440a-e3cc-e4e66271c872"
      },
      "execution_count": 64,
      "outputs": [
        {
          "output_type": "execute_result",
          "data": {
            "text/plain": [
              "90"
            ]
          },
          "metadata": {},
          "execution_count": 64
        }
      ]
    },
    {
      "cell_type": "code",
      "source": [
        "available_analogy_words = []\n",
        "for words in available_analogy:\n",
        "  for word in words:\n",
        "    available_analogy_words.append(word)\n",
        "available_analogy_words = list(set(available_analogy_words))"
      ],
      "metadata": {
        "id": "R4DVYQAZhHuI"
      },
      "execution_count": 65,
      "outputs": []
    },
    {
      "cell_type": "code",
      "source": [
        "analogy_embed_w2v = []\n",
        "analogy_words_w2v = []\n",
        "for word in W :\n",
        "  if word in model:\n",
        "    analogy_words_w2v.append(word)\n",
        "    analogy_embed_w2v.append(model[word])"
      ],
      "metadata": {
        "id": "GhSxT-6TJiZ8"
      },
      "execution_count": 66,
      "outputs": []
    },
    {
      "cell_type": "code",
      "source": [
        "analogy_embed_LSA = []\n",
        "for word in analogy_words_w2v :\n",
        "  analogy_embed_LSA.append(M2_300[W.index(word)])\n",
        "analogy_embed_LSA = np.array(analogy_embed_LSA)\n",
        "analogy_embed_LSA.shape"
      ],
      "metadata": {
        "colab": {
          "base_uri": "https://localhost:8080/"
        },
        "id": "UyxOFf3YlYVF",
        "outputId": "06e93ffe-6d84-4037-c682-f5cf8f372da7"
      },
      "execution_count": 67,
      "outputs": [
        {
          "output_type": "execute_result",
          "data": {
            "text/plain": [
              "(4911, 300)"
            ]
          },
          "metadata": {},
          "execution_count": 67
        }
      ]
    },
    {
      "cell_type": "code",
      "source": [
        "print(len(analogy_embed_w2v))\n",
        "print(len(analogy_words_w2v))"
      ],
      "metadata": {
        "colab": {
          "base_uri": "https://localhost:8080/"
        },
        "id": "exPWcbRcjNB6",
        "outputId": "e036ffed-f736-483b-cc4c-eeffbb007fdc"
      },
      "execution_count": 68,
      "outputs": [
        {
          "output_type": "stream",
          "name": "stdout",
          "text": [
            "4911\n",
            "4911\n"
          ]
        }
      ]
    },
    {
      "cell_type": "code",
      "source": [
        "analogy_embed_w2v = np.array(analogy_embed_w2v)\n",
        "analogy_embed_w2v.shape"
      ],
      "metadata": {
        "colab": {
          "base_uri": "https://localhost:8080/"
        },
        "id": "T1eeDvHajV6u",
        "outputId": "c78daa27-5df3-4bc5-c234-a69bb960d804"
      },
      "execution_count": 69,
      "outputs": [
        {
          "output_type": "execute_result",
          "data": {
            "text/plain": [
              "(4911, 300)"
            ]
          },
          "metadata": {},
          "execution_count": 69
        }
      ]
    },
    {
      "cell_type": "code",
      "source": [
        "#for w2v it taken from https://stackoverflow.com/questions/32759712/how-to-find-the-closest-word-to-a-vector-using-word2vec\n",
        "\n",
        "def analogy_calc_w2v(w1,w2,w3,embedding,words):\n",
        "  closest_dist = 1\n",
        "  best_word_index = 0\n",
        "  diff = embedding[words.index(w1)] - embedding[words.index(w2)]\n",
        "  pred_embed = embedding[words.index(w3)] + diff\n",
        "  for word in words :\n",
        "    if word not in [w1,w2,w3]:\n",
        "      dist = 1 - cosine_similarity(pred_embed.reshape(1,-1),embedding[words.index(word)].reshape(1,-1))[0][0]\n",
        "      if dist < closest_dist:\n",
        "        best_word_index = words.index(word)\n",
        "        closest_dist = dist\n",
        "  \n",
        "  \n",
        "  return words[best_word_index],best_word_index,closest_dist"
      ],
      "metadata": {
        "id": "tcZNAV5H76oM"
      },
      "execution_count": 70,
      "outputs": []
    },
    {
      "cell_type": "code",
      "source": [
        "import sklearn\n",
        "def analogy_diff_calc(available_analogy,embedding,words):\n",
        "  pred_embeddings = []\n",
        "  pred_words =[]\n",
        "  final_result = []\n",
        "  # print(available_analogy)\n",
        "  for w1,w2,w3,w4 in available_analogy:\n",
        "    diff = embedding[words.index(w1)] - embedding[words.index(w2)]\n",
        "    pred_embed = embedding[words.index(w3)] + diff\n",
        "    pred_embeddings.append(pred_embed)\n",
        "  # print(pred_embeddings)\n",
        "  pred_embeddings = sklearn.preprocessing.normalize(np.array(pred_embeddings), norm=\"l1\")\n",
        "  embedding = sklearn.preprocessing.normalize(np.array(embedding), norm=\"l1\")\n",
        "  product_sim = pred_embeddings @ embedding.T\n",
        "  sorted_sim = (-product_sim).argsort()\n",
        "  for i in range(sorted_sim.shape[0]):\n",
        "    row = sorted_sim[i]\n",
        "    top4 = np.flip((row[:4]))\n",
        "    w1,w2,w3,w4 = available_analogy[i]\n",
        "    # print(top4)\n",
        "    # print(words.index(w1),words.index(w2),words.index(w3))\n",
        "    for index in top4:\n",
        "      if index in [words.index(w1),words.index(w2),words.index(w3)]:\n",
        "        # print('yes')\n",
        "        continue\n",
        "      else:\n",
        "        # print(index)\n",
        "        word = words[index]\n",
        "    # print(w1,w2,w3,word)\n",
        "    pred_words.append(word)\n",
        "  # for count in range(len(available_analogy)):\n",
        "\n",
        "  #   r= available_analogy[count].copy()\n",
        "  #   print(r,pred_words[count])\n",
        "  #   print(len(r))\n",
        "  #   print(type(r))\n",
        "  #   r2 =r.append(pred_words[count])\n",
        "  #   print(r2)\n",
        "    # final_result.append(r.append(pred_words[count]))\n",
        "  # print(pred_words)\n",
        "  return pred_words"
      ],
      "metadata": {
        "id": "3_ZwNedk8rdr"
      },
      "execution_count": 71,
      "outputs": []
    },
    {
      "cell_type": "code",
      "source": [
        "available_analogy[:2]"
      ],
      "metadata": {
        "colab": {
          "base_uri": "https://localhost:8080/"
        },
        "id": "x22FG2kBP5y_",
        "outputId": "e0da94f4-f9a3-427b-d6ba-bf7d4505bfd0"
      },
      "execution_count": 72,
      "outputs": [
        {
          "output_type": "execute_result",
          "data": {
            "text/plain": [
              "[['boy', 'girl', 'brother', 'sister'], ['boy', 'girl', 'father', 'mother']]"
            ]
          },
          "metadata": {},
          "execution_count": 72
        }
      ]
    },
    {
      "cell_type": "code",
      "source": [
        "pred_words_w2v = analogy_diff_calc(available_analogy,analogy_embed_w2v,analogy_words_w2v)\n",
        "pred_words_LSA = analogy_diff_calc(available_analogy,analogy_embed_LSA,analogy_words_w2v)"
      ],
      "metadata": {
        "id": "AdYngFZHOSRI"
      },
      "execution_count": 73,
      "outputs": []
    },
    {
      "cell_type": "code",
      "source": [
        "len(pred_words_w2v)"
      ],
      "metadata": {
        "colab": {
          "base_uri": "https://localhost:8080/"
        },
        "id": "-Yg7JZwMOpUm",
        "outputId": "bafd5686-7e3d-47bd-d09a-4f33acba8a88"
      },
      "execution_count": 74,
      "outputs": [
        {
          "output_type": "execute_result",
          "data": {
            "text/plain": [
              "2082"
            ]
          },
          "metadata": {},
          "execution_count": 74
        }
      ]
    },
    {
      "cell_type": "code",
      "source": [
        "def calc_accuracy(available_analogy,pred_words,cat_map_available):\n",
        "  all_syn_correct = cat_map_available.count('syntetic') \n",
        "  all_sem_correct = cat_map_available.count('semantic')\n",
        "  syn_correct = 0\n",
        "  sem_correct = 0 \n",
        "  for i in range(len(available_analogy)):\n",
        "    if available_analogy[i][3] == pred_words [i]:\n",
        "      if cat_map_available[i] =='syntetic':\n",
        "        syn_correct+=1\n",
        "      else :\n",
        "        sem_correct+=1\n",
        "  print('Accuracy for syntetic: ',syn_correct/all_syn_correct)\n",
        "  print('Accuracy for semantic: ',sem_correct/all_sem_correct)\n"
      ],
      "metadata": {
        "id": "i7ehCkfXwg-M"
      },
      "execution_count": 75,
      "outputs": []
    },
    {
      "cell_type": "code",
      "source": [
        "calc_accuracy(available_analogy,pred_words_w2v,cat_map_available)"
      ],
      "metadata": {
        "colab": {
          "base_uri": "https://localhost:8080/"
        },
        "id": "temsMbJlmqW_",
        "outputId": "ab2d4155-f279-448e-c96d-faf9ed8995d1"
      },
      "execution_count": 76,
      "outputs": [
        {
          "output_type": "stream",
          "name": "stdout",
          "text": [
            "Accuracy for syntetic:  0.14156626506024098\n",
            "Accuracy for semantic:  0.06666666666666667\n"
          ]
        }
      ]
    },
    {
      "cell_type": "code",
      "source": [
        "calc_accuracy(available_analogy,pred_words_LSA,cat_map_available)"
      ],
      "metadata": {
        "colab": {
          "base_uri": "https://localhost:8080/"
        },
        "id": "QP1l9I6mytG1",
        "outputId": "814438dc-84b7-431e-d09a-2ce4a8454761"
      },
      "execution_count": 77,
      "outputs": [
        {
          "output_type": "stream",
          "name": "stdout",
          "text": [
            "Accuracy for syntetic:  0.061746987951807226\n",
            "Accuracy for semantic:  0.1111111111111111\n"
          ]
        }
      ]
    },
    {
      "cell_type": "markdown",
      "source": [
        "##Diachronic word embedding"
      ],
      "metadata": {
        "id": "oI-OHQLFzKnY"
      }
    },
    {
      "cell_type": "markdown",
      "source": [
        "###Step 1"
      ],
      "metadata": {
        "id": "EOUnImOjdikI"
      }
    },
    {
      "cell_type": "code",
      "source": [
        "import pickle\n",
        "file = open(\"/content/data.pkl\",'rb')\n",
        "data = pickle.load(file)"
      ],
      "metadata": {
        "id": "OOJoBwmI0C7u"
      },
      "execution_count": 37,
      "outputs": []
    },
    {
      "cell_type": "code",
      "source": [
        "data['E'][1][2].shape"
      ],
      "metadata": {
        "colab": {
          "base_uri": "https://localhost:8080/"
        },
        "id": "8bRDHvZ_4LDQ",
        "outputId": "0a2fcf77-b184-456a-b418-14c08fab79e4"
      },
      "execution_count": 38,
      "outputs": [
        {
          "output_type": "execute_result",
          "data": {
            "text/plain": [
              "(300,)"
            ]
          },
          "metadata": {},
          "execution_count": 38
        }
      ]
    },
    {
      "cell_type": "markdown",
      "source": [
        "###Step 2"
      ],
      "metadata": {
        "id": "SkbA6rbIAV8S"
      }
    },
    {
      "cell_type": "markdown",
      "source": [
        "####Method1\n",
        "Calculate the cosine distance of each word for each two following decade and calcuate the variance "
      ],
      "metadata": {
        "id": "NtJVhUvUAgNi"
      }
    },
    {
      "cell_type": "code",
      "source": [
        "semantic_change = []\n",
        "for i in range(2000):\n",
        "  cosine_dist = []\n",
        "  for j in range(1,len(data['d'])):\n",
        "    cosine_dist.append(1-cosine_similarity(data['E'][i][j].reshape(1, -1),data['E'][i][j-1].reshape(1, -1))[0][0])\n",
        "  semantic_change.append(cosine_dist)"
      ],
      "metadata": {
        "id": "3EF1qxrh4T9v"
      },
      "execution_count": 39,
      "outputs": []
    },
    {
      "cell_type": "code",
      "source": [
        "semantic_change[0]"
      ],
      "metadata": {
        "colab": {
          "base_uri": "https://localhost:8080/"
        },
        "id": "LaLi9ZvnEHs9",
        "outputId": "c315ac97-da8c-464d-fc71-2ef4b2ac22e2"
      },
      "execution_count": 40,
      "outputs": [
        {
          "output_type": "execute_result",
          "data": {
            "text/plain": [
              "[0.31214305866948444,\n",
              " 0.3205812053756597,\n",
              " 0.3523720485493146,\n",
              " 0.3333269575621357,\n",
              " 0.37701513254969266,\n",
              " 0.38991382592539636,\n",
              " 0.35640704288837244,\n",
              " 0.31868190824684184,\n",
              " 0.35110624505093235]"
            ]
          },
          "metadata": {},
          "execution_count": 40
        }
      ]
    },
    {
      "cell_type": "code",
      "source": [
        "import statistics\n",
        "semantic_change_method1 = []\n",
        "for item in semantic_change:\n",
        "  semantic_change_method1.append(statistics.variance(item))"
      ],
      "metadata": {
        "id": "KalgeEe9D6lh"
      },
      "execution_count": 41,
      "outputs": []
    },
    {
      "cell_type": "code",
      "source": [
        "semantic_change_method1[:5]"
      ],
      "metadata": {
        "colab": {
          "base_uri": "https://localhost:8080/"
        },
        "id": "FPWy3mXqGoWC",
        "outputId": "effd9eeb-5888-49a7-9e7e-4b632645c6e3"
      },
      "execution_count": 42,
      "outputs": [
        {
          "output_type": "execute_result",
          "data": {
            "text/plain": [
              "[0.0007204961535312207,\n",
              " 0.0007004102364382252,\n",
              " 0.0002873686910700435,\n",
              " 0.001992651887529836,\n",
              " 0.000851607403015123]"
            ]
          },
          "metadata": {},
          "execution_count": 42
        }
      ]
    },
    {
      "cell_type": "code",
      "source": [
        "print('Top 20 changed words')\n",
        "for index in (-np.array(semantic_change_method1)).argsort()[:20]:\n",
        "  print(data['w'][index])"
      ],
      "metadata": {
        "colab": {
          "base_uri": "https://localhost:8080/"
        },
        "id": "vti_TOj8FQH_",
        "outputId": "57a8604d-e98f-467d-8e97-f1ec834fa9f7"
      },
      "execution_count": 43,
      "outputs": [
        {
          "output_type": "stream",
          "name": "stdout",
          "text": [
            "Top 20 changed words\n",
            "shri\n",
            "computer\n",
            "techniques\n",
            "ml\n",
            "skills\n",
            "goals\n",
            "objectives\n",
            "mcgraw\n",
            "programs\n",
            "sector\n",
            "evaluation\n",
            "input\n",
            "therapy\n",
            "procedures\n",
            "variables\n",
            "radio\n",
            "jobs\n",
            "subsection\n",
            "implications\n",
            "technology\n"
          ]
        }
      ]
    },
    {
      "cell_type": "code",
      "source": [
        "print('Top 20 unchanged words')\n",
        "for index in (np.array(semantic_change_method1)).argsort()[:20]:\n",
        "  print(data['w'][index])"
      ],
      "metadata": {
        "colab": {
          "base_uri": "https://localhost:8080/"
        },
        "id": "apf2Qtn6FlIG",
        "outputId": "7717bdca-ebae-4453-8ee2-c0a0d6526ce5"
      },
      "execution_count": 44,
      "outputs": [
        {
          "output_type": "stream",
          "name": "stdout",
          "text": [
            "Top 20 unchanged words\n",
            "november\n",
            "increase\n",
            "reply\n",
            "article\n",
            "card\n",
            "root\n",
            "calcium\n",
            "rome\n",
            "jurisdiction\n",
            "situation\n",
            "president\n",
            "act\n",
            "pair\n",
            "father\n",
            "force\n",
            "bath\n",
            "troops\n",
            "night\n",
            "remainder\n",
            "sunday\n"
          ]
        }
      ]
    },
    {
      "cell_type": "markdown",
      "source": [
        "####Method2\n",
        "Average distance of word from first appearance\n"
      ],
      "metadata": {
        "id": "QoiLtquqHTLG"
      }
    },
    {
      "cell_type": "code",
      "source": [
        "semantic_change = []\n",
        "for i in range(2000):\n",
        "  cosine_dist = []\n",
        "  for j in range(1,len(data['d'])):\n",
        "    cosine_dist.append(1-cosine_similarity(data['E'][i][0].reshape(1, -1),data['E'][i][j].reshape(1, -1))[0][0])\n",
        "  semantic_change.append(cosine_dist)"
      ],
      "metadata": {
        "id": "8moMiAODHJ7W"
      },
      "execution_count": 80,
      "outputs": []
    },
    {
      "cell_type": "code",
      "source": [
        "import statistics\n",
        "semantic_change_method2 = []\n",
        "for item in semantic_change:\n",
        "  semantic_change_method2.append(statistics.mean(item))"
      ],
      "metadata": {
        "id": "Oc2PeMbLIBkU"
      },
      "execution_count": 81,
      "outputs": []
    },
    {
      "cell_type": "code",
      "source": [
        "print('Top 20 changed words')\n",
        "for index in (-np.array(semantic_change_method2)).argsort()[:20]:\n",
        "  print(data['w'][index])"
      ],
      "metadata": {
        "colab": {
          "base_uri": "https://localhost:8080/"
        },
        "id": "tg6x3ZZ2IUyg",
        "outputId": "51e402c9-62a3-409c-991f-5f9b786d517e"
      },
      "execution_count": 82,
      "outputs": [
        {
          "output_type": "stream",
          "name": "stdout",
          "text": [
            "Top 20 changed words\n",
            "mcgraw\n",
            "ml\n",
            "techniques\n",
            "skills\n",
            "computer\n",
            "objectives\n",
            "programs\n",
            "shri\n",
            "radio\n",
            "sector\n",
            "goals\n",
            "therapy\n",
            "van\n",
            "input\n",
            "patterns\n",
            "evaluation\n",
            "berkeley\n",
            "jobs\n",
            "wiley\n",
            "stanford\n"
          ]
        }
      ]
    },
    {
      "cell_type": "code",
      "source": [
        "print('Top 20 unchanged words')\n",
        "for index in (np.array(semantic_change_method2)).argsort()[:20]:\n",
        "  print(data['w'][index])"
      ],
      "metadata": {
        "colab": {
          "base_uri": "https://localhost:8080/"
        },
        "id": "E1Es73weIYrz",
        "outputId": "5b49260d-faa3-4563-e4bd-fba492905fc9"
      },
      "execution_count": 83,
      "outputs": [
        {
          "output_type": "stream",
          "name": "stdout",
          "text": [
            "Top 20 unchanged words\n",
            "april\n",
            "october\n",
            "november\n",
            "miles\n",
            "september\n",
            "january\n",
            "february\n",
            "trees\n",
            "feet\n",
            "july\n",
            "months\n",
            "increase\n",
            "years\n",
            "vessels\n",
            "december\n",
            "june\n",
            "church\n",
            "century\n",
            "payment\n",
            "daughter\n"
          ]
        }
      ]
    },
    {
      "cell_type": "markdown",
      "source": [
        "####Method3\n",
        "averaging the top 3 changes of words compared to the first appearance of the word"
      ],
      "metadata": {
        "id": "JpidRMukIkXc"
      }
    },
    {
      "cell_type": "code",
      "source": [
        "semantic_change = []\n",
        "for i in range(2000):\n",
        "  cosine_dist = []\n",
        "  for j in range(1,len(data['d'])):\n",
        "    cosine_dist.append(1-cosine_similarity(data['E'][i][0].reshape(1, -1),data['E'][i][j].reshape(1, -1))[0][0])\n",
        "  semantic_change.append(cosine_dist)"
      ],
      "metadata": {
        "id": "EOKoM2faI3Sr"
      },
      "execution_count": 84,
      "outputs": []
    },
    {
      "cell_type": "code",
      "source": [
        "import statistics\n",
        "semantic_change_method3 = []\n",
        "for item in semantic_change:\n",
        "  top3_scores = []\n",
        "  for index in (-np.array(item).argsort())[:3]:\n",
        "    top3_scores.append(item[index])\n",
        "  semantic_change_method3.append(statistics.mean(top3_scores))"
      ],
      "metadata": {
        "id": "tYiDJCGJI3Sr"
      },
      "execution_count": 85,
      "outputs": []
    },
    {
      "cell_type": "code",
      "source": [
        "print('Top 20 changed words')\n",
        "for index in (-np.array(semantic_change_method3)).argsort()[:20]:\n",
        "  print(data['w'][index])"
      ],
      "metadata": {
        "colab": {
          "base_uri": "https://localhost:8080/"
        },
        "outputId": "27443454-c3c3-46a6-b425-d12f8d723733",
        "id": "0GOwSEbtI3Sr"
      },
      "execution_count": 86,
      "outputs": [
        {
          "output_type": "stream",
          "name": "stdout",
          "text": [
            "Top 20 changed words\n",
            "skills\n",
            "ml\n",
            "techniques\n",
            "mcgraw\n",
            "computer\n",
            "shri\n",
            "objectives\n",
            "programs\n",
            "sector\n",
            "goals\n",
            "radio\n",
            "therapy\n",
            "input\n",
            "patterns\n",
            "media\n",
            "berkeley\n",
            "evaluation\n",
            "impact\n",
            "perspective\n",
            "stanford\n"
          ]
        }
      ]
    },
    {
      "cell_type": "code",
      "source": [
        "print('Top 20 unchanged words')\n",
        "for index in (np.array(semantic_change_method3)).argsort()[:20]:\n",
        "  print(data['w'][index])"
      ],
      "metadata": {
        "colab": {
          "base_uri": "https://localhost:8080/"
        },
        "outputId": "93a1a64b-1a35-4f7c-ab8f-201a1195d043",
        "id": "3Fim2UxxI3Sr"
      },
      "execution_count": 87,
      "outputs": [
        {
          "output_type": "stream",
          "name": "stdout",
          "text": [
            "Top 20 unchanged words\n",
            "april\n",
            "november\n",
            "february\n",
            "september\n",
            "october\n",
            "january\n",
            "june\n",
            "months\n",
            "miles\n",
            "december\n",
            "trees\n",
            "door\n",
            "evening\n",
            "years\n",
            "july\n",
            "disease\n",
            "increase\n",
            "river\n",
            "church\n",
            "century\n"
          ]
        }
      ]
    },
    {
      "cell_type": "markdown",
      "source": [
        "### 3-3 Table"
      ],
      "metadata": {
        "id": "S3lmro0bKSHU"
      }
    },
    {
      "cell_type": "code",
      "source": [
        "table_3by3 = [[0 for i in range(3)]for i in range(3)]\n",
        "scores = [semantic_change_method1,semantic_change_method2,semantic_change_method3]\n",
        "for i in range(3):\n",
        "  for j in range(3):\n",
        "    table_3by3[i][j] = pearsonr(scores[i],scores[j])[0]"
      ],
      "metadata": {
        "id": "EWXT9bfDKpUd"
      },
      "execution_count": 88,
      "outputs": []
    },
    {
      "cell_type": "code",
      "source": [
        "import pandas\n",
        "methods = [\"variance method\",\"average cosine distance from start\",\"average of top 3 distance from start\"] \n",
        "data_table = table_3by3\n",
        "headers=methods\n",
        "pandas.DataFrame(data_table, headers, headers)"
      ],
      "metadata": {
        "colab": {
          "base_uri": "https://localhost:8080/",
          "height": 143
        },
        "id": "lJ3rgOtxOLo9",
        "outputId": "da09a914-52db-423a-a179-0ad6eb7e1f35"
      },
      "execution_count": 89,
      "outputs": [
        {
          "output_type": "execute_result",
          "data": {
            "text/html": [
              "\n",
              "  <div id=\"df-476cbf5a-affc-40fe-a017-0e93911387bc\">\n",
              "    <div class=\"colab-df-container\">\n",
              "      <div>\n",
              "<style scoped>\n",
              "    .dataframe tbody tr th:only-of-type {\n",
              "        vertical-align: middle;\n",
              "    }\n",
              "\n",
              "    .dataframe tbody tr th {\n",
              "        vertical-align: top;\n",
              "    }\n",
              "\n",
              "    .dataframe thead th {\n",
              "        text-align: right;\n",
              "    }\n",
              "</style>\n",
              "<table border=\"1\" class=\"dataframe\">\n",
              "  <thead>\n",
              "    <tr style=\"text-align: right;\">\n",
              "      <th></th>\n",
              "      <th>variance method</th>\n",
              "      <th>average cosine distance from start</th>\n",
              "      <th>average of top 3 distance from start</th>\n",
              "    </tr>\n",
              "  </thead>\n",
              "  <tbody>\n",
              "    <tr>\n",
              "      <th>variance method</th>\n",
              "      <td>1.000000</td>\n",
              "      <td>0.538126</td>\n",
              "      <td>0.529446</td>\n",
              "    </tr>\n",
              "    <tr>\n",
              "      <th>average cosine distance from start</th>\n",
              "      <td>0.538126</td>\n",
              "      <td>1.000000</td>\n",
              "      <td>0.974105</td>\n",
              "    </tr>\n",
              "    <tr>\n",
              "      <th>average of top 3 distance from start</th>\n",
              "      <td>0.529446</td>\n",
              "      <td>0.974105</td>\n",
              "      <td>1.000000</td>\n",
              "    </tr>\n",
              "  </tbody>\n",
              "</table>\n",
              "</div>\n",
              "      <button class=\"colab-df-convert\" onclick=\"convertToInteractive('df-476cbf5a-affc-40fe-a017-0e93911387bc')\"\n",
              "              title=\"Convert this dataframe to an interactive table.\"\n",
              "              style=\"display:none;\">\n",
              "        \n",
              "  <svg xmlns=\"http://www.w3.org/2000/svg\" height=\"24px\"viewBox=\"0 0 24 24\"\n",
              "       width=\"24px\">\n",
              "    <path d=\"M0 0h24v24H0V0z\" fill=\"none\"/>\n",
              "    <path d=\"M18.56 5.44l.94 2.06.94-2.06 2.06-.94-2.06-.94-.94-2.06-.94 2.06-2.06.94zm-11 1L8.5 8.5l.94-2.06 2.06-.94-2.06-.94L8.5 2.5l-.94 2.06-2.06.94zm10 10l.94 2.06.94-2.06 2.06-.94-2.06-.94-.94-2.06-.94 2.06-2.06.94z\"/><path d=\"M17.41 7.96l-1.37-1.37c-.4-.4-.92-.59-1.43-.59-.52 0-1.04.2-1.43.59L10.3 9.45l-7.72 7.72c-.78.78-.78 2.05 0 2.83L4 21.41c.39.39.9.59 1.41.59.51 0 1.02-.2 1.41-.59l7.78-7.78 2.81-2.81c.8-.78.8-2.07 0-2.86zM5.41 20L4 18.59l7.72-7.72 1.47 1.35L5.41 20z\"/>\n",
              "  </svg>\n",
              "      </button>\n",
              "      \n",
              "  <style>\n",
              "    .colab-df-container {\n",
              "      display:flex;\n",
              "      flex-wrap:wrap;\n",
              "      gap: 12px;\n",
              "    }\n",
              "\n",
              "    .colab-df-convert {\n",
              "      background-color: #E8F0FE;\n",
              "      border: none;\n",
              "      border-radius: 50%;\n",
              "      cursor: pointer;\n",
              "      display: none;\n",
              "      fill: #1967D2;\n",
              "      height: 32px;\n",
              "      padding: 0 0 0 0;\n",
              "      width: 32px;\n",
              "    }\n",
              "\n",
              "    .colab-df-convert:hover {\n",
              "      background-color: #E2EBFA;\n",
              "      box-shadow: 0px 1px 2px rgba(60, 64, 67, 0.3), 0px 1px 3px 1px rgba(60, 64, 67, 0.15);\n",
              "      fill: #174EA6;\n",
              "    }\n",
              "\n",
              "    [theme=dark] .colab-df-convert {\n",
              "      background-color: #3B4455;\n",
              "      fill: #D2E3FC;\n",
              "    }\n",
              "\n",
              "    [theme=dark] .colab-df-convert:hover {\n",
              "      background-color: #434B5C;\n",
              "      box-shadow: 0px 1px 3px 1px rgba(0, 0, 0, 0.15);\n",
              "      filter: drop-shadow(0px 1px 2px rgba(0, 0, 0, 0.3));\n",
              "      fill: #FFFFFF;\n",
              "    }\n",
              "  </style>\n",
              "\n",
              "      <script>\n",
              "        const buttonEl =\n",
              "          document.querySelector('#df-476cbf5a-affc-40fe-a017-0e93911387bc button.colab-df-convert');\n",
              "        buttonEl.style.display =\n",
              "          google.colab.kernel.accessAllowed ? 'block' : 'none';\n",
              "\n",
              "        async function convertToInteractive(key) {\n",
              "          const element = document.querySelector('#df-476cbf5a-affc-40fe-a017-0e93911387bc');\n",
              "          const dataTable =\n",
              "            await google.colab.kernel.invokeFunction('convertToInteractive',\n",
              "                                                     [key], {});\n",
              "          if (!dataTable) return;\n",
              "\n",
              "          const docLinkHtml = 'Like what you see? Visit the ' +\n",
              "            '<a target=\"_blank\" href=https://colab.research.google.com/notebooks/data_table.ipynb>data table notebook</a>'\n",
              "            + ' to learn more about interactive tables.';\n",
              "          element.innerHTML = '';\n",
              "          dataTable['output_type'] = 'display_data';\n",
              "          await google.colab.output.renderOutput(dataTable, element);\n",
              "          const docLink = document.createElement('div');\n",
              "          docLink.innerHTML = docLinkHtml;\n",
              "          element.appendChild(docLink);\n",
              "        }\n",
              "      </script>\n",
              "    </div>\n",
              "  </div>\n",
              "  "
            ],
            "text/plain": [
              "                                      variance method  ...  average of top 3 distance from start\n",
              "variance method                              1.000000  ...                              0.529446\n",
              "average cosine distance from start           0.538126  ...                              0.974105\n",
              "average of top 3 distance from start         0.529446  ...                              1.000000\n",
              "\n",
              "[3 rows x 3 columns]"
            ]
          },
          "metadata": {},
          "execution_count": 89
        }
      ]
    },
    {
      "cell_type": "markdown",
      "source": [
        "###Step 3"
      ],
      "metadata": {
        "id": "y7_7HDiVmnWi"
      }
    },
    {
      "cell_type": "markdown",
      "source": [
        "\n",
        "####eval: comparing to the unchanged words\n",
        "One way to evaluate the change for a word is seeing how much change a word has compared to the most unchanged words. To find the most unchanged words we take the 200 unchanged words that appeared in our previous three methods and get the common words. "
      ],
      "metadata": {
        "id": "9aHdv2MnRClB"
      }
    },
    {
      "cell_type": "code",
      "source": [
        "def IntersecOfSets(arr1, arr2, arr3):\n",
        "    # Converting the arrays into sets\n",
        "    s1 = set(arr1)\n",
        "    s2 = set(arr2)\n",
        "    s3 = set(arr3)\n",
        "      \n",
        "    # Calculates intersection of \n",
        "    # sets on s1 and s2\n",
        "    set1 = s1.intersection(s2)         #[80, 20, 100]\n",
        "      \n",
        "    # Calculates intersection of sets\n",
        "    # on set1 and s3\n",
        "    result_set = set1.intersection(s3)\n",
        "      \n",
        "    # Converts resulting set to list\n",
        "    final_list = list(result_set)\n",
        "    print(type(final_list))\n",
        "    print(final_list)\n",
        "  "
      ],
      "metadata": {
        "id": "plTiTRaRZtEW"
      },
      "execution_count": 90,
      "outputs": []
    },
    {
      "cell_type": "code",
      "source": [
        "method1_unchanged_words = [data['w'][i] for i in (np.array(semantic_change_method1)).argsort()[:100]]\n",
        "method2_unchanged_words = [data['w'][i] for i in (np.array(semantic_change_method2)).argsort()[:100]]\n",
        "method3_unchanged_words = [data['w'][i] for i in (np.array(semantic_change_method3)).argsort()[:100]]\n",
        "# unchanged_words= IntersecOfSets(method1_unchanged_words,method2_unchanged_words,method3_unchanged_words)\n",
        "# type(unchanged_words)\n",
        "s1 = set(method1_unchanged_words)\n",
        "s2 = set(method2_unchanged_words)\n",
        "s3 = set(method3_unchanged_words)\n",
        "  \n",
        "# Calculates intersection of \n",
        "# sets on s1 and s2\n",
        "set1 = s1.intersection(s2)         #[80, 20, 100]\n",
        "  \n",
        "# Calculates intersection of sets\n",
        "# on set1 and s3\n",
        "result_set = set1.intersection(s3)\n",
        "  \n",
        "# Converts resulting set to list\n",
        "final_list = list(result_set)"
      ],
      "metadata": {
        "id": "C_GkeP6oZvF0"
      },
      "execution_count": 91,
      "outputs": []
    },
    {
      "cell_type": "code",
      "source": [
        "# len(unchanged_words)\n",
        "unchanged_words =final_list\n",
        "unchanged_words"
      ],
      "metadata": {
        "colab": {
          "base_uri": "https://localhost:8080/"
        },
        "id": "xr9ogPXUbCfj",
        "outputId": "0c9ad267-dc8c-437c-fd15-616ff5763d29"
      },
      "execution_count": 92,
      "outputs": [
        {
          "output_type": "execute_result",
          "data": {
            "text/plain": [
              "['century',\n",
              " 'troops',\n",
              " 'centuries',\n",
              " 'december',\n",
              " 'april',\n",
              " 'summer',\n",
              " 'january',\n",
              " 'feet',\n",
              " 'increase',\n",
              " 'november',\n",
              " 'water']"
            ]
          },
          "metadata": {},
          "execution_count": 92
        }
      ]
    },
    {
      "cell_type": "code",
      "source": [
        "def evaluation_per_decade(decade,word,unchanged_words):\n",
        "  word_distance = []\n",
        "  for unchanged_word in unchanged_words:\n",
        "    word_distance.append(1-cosine_similarity(data['E'][data['w'].index(word)][decade].reshape(1, -1),data['E'][data['w'].index(unchanged_word)][decade].reshape(1, -1))[0][0])\n",
        "  return statistics.mean(word_distance)"
      ],
      "metadata": {
        "id": "XoOgudQsNu33"
      },
      "execution_count": 93,
      "outputs": []
    },
    {
      "cell_type": "code",
      "source": [
        "semantic_change = []\n",
        "for i in range(2000):\n",
        "  cosine_dist = []\n",
        "  if i%100 ==0:\n",
        "    print(i)\n",
        "  for j in range(len(data['d'])):\n",
        "    cosine_dist.append(evaluation_per_decade(j,data['w'][i],unchanged_words))\n",
        "  semantic_change.append(cosine_dist)"
      ],
      "metadata": {
        "colab": {
          "base_uri": "https://localhost:8080/"
        },
        "id": "1iZ8kcoadyyX",
        "outputId": "1c317b76-c5fe-4a77-9b03-704775d38c80"
      },
      "execution_count": 94,
      "outputs": [
        {
          "output_type": "stream",
          "name": "stdout",
          "text": [
            "0\n",
            "100\n",
            "200\n",
            "300\n",
            "400\n",
            "500\n",
            "600\n",
            "700\n",
            "800\n",
            "900\n",
            "1000\n",
            "1100\n",
            "1200\n",
            "1300\n",
            "1400\n",
            "1500\n",
            "1600\n",
            "1700\n",
            "1800\n",
            "1900\n"
          ]
        }
      ]
    },
    {
      "cell_type": "code",
      "source": [
        "semantic_change[data['w'].index('ml')]"
      ],
      "metadata": {
        "colab": {
          "base_uri": "https://localhost:8080/"
        },
        "id": "u3zSjUBfgob_",
        "outputId": "31efe704-e0d7-4e7d-d395-2ea3e16e34fd"
      },
      "execution_count": 95,
      "outputs": [
        {
          "output_type": "execute_result",
          "data": {
            "text/plain": [
              "[1.0,\n",
              " 1.0,\n",
              " 0.9220700879048962,\n",
              " 0.9048385529073107,\n",
              " 0.926393200111417,\n",
              " 0.9114823136144486,\n",
              " 0.9341087471409697,\n",
              " 0.9330438398946119,\n",
              " 0.9759397072808736,\n",
              " 0.964810977666814]"
            ]
          },
          "metadata": {},
          "execution_count": 95
        }
      ]
    },
    {
      "cell_type": "code",
      "source": [
        "import statistics\n",
        "semantic_change_eval = []\n",
        "for item in semantic_change:\n",
        "  semantic_change_eval.append(abs(item[0]-item[-1]))"
      ],
      "metadata": {
        "id": "etQKyhcjdyyX"
      },
      "execution_count": 96,
      "outputs": []
    },
    {
      "cell_type": "code",
      "source": [
        "print('Top 20 changed words')\n",
        "for index in (-np.array(semantic_change_eval)).argsort()[:20]:\n",
        "  print(data['w'][index],semantic_change_eval[index])"
      ],
      "metadata": {
        "colab": {
          "base_uri": "https://localhost:8080/"
        },
        "id": "6SZPmoughsZ5",
        "outputId": "2686f496-56ca-463a-fadf-88cac299ee08"
      },
      "execution_count": 97,
      "outputs": [
        {
          "output_type": "stream",
          "name": "stdout",
          "text": [
            "Top 20 changed words\n",
            "jobs 0.14646670711289067\n",
            "j 0.13462578391494695\n",
            "fortune 0.12130502217882622\n",
            "business 0.11030919781985349\n",
            "nation 0.10529824761701245\n",
            "wall 0.09712931366680633\n",
            "f 0.09698440490506277\n",
            "message 0.09667811856345787\n",
            "management 0.09641624997571219\n",
            "procedures 0.09428117479045894\n",
            "conversation 0.09384849451084087\n",
            "opinion 0.09349353575184438\n",
            "opportunities 0.09333040216771415\n",
            "printing 0.08982911746701316\n",
            "emphasis 0.08893901088301592\n",
            "x 0.08863987957365072\n",
            "world 0.08788077628093383\n",
            "hearing 0.08754070342052223\n",
            "author 0.08723494986245794\n",
            "g 0.08663692448747484\n"
          ]
        }
      ]
    },
    {
      "cell_type": "markdown",
      "source": [
        "We see that this method evaluation doesn't capture the highest changing words\n"
      ],
      "metadata": {
        "id": "tTDJ15_xl-8D"
      }
    },
    {
      "cell_type": "markdown",
      "source": [
        "####Method 2: comparing the most related words without matrix multiplication\n",
        "We compare the most similar words of each word in each decade and count the commons fractionaly"
      ],
      "metadata": {
        "id": "Z2tE-_n2mqWr"
      }
    },
    {
      "cell_type": "code",
      "source": [
        "decade_words = np.array(data['E'][0][:])\n",
        "decade_words.shape"
      ],
      "metadata": {
        "colab": {
          "base_uri": "https://localhost:8080/"
        },
        "id": "CcHub9wnoZyP",
        "outputId": "8f10ca6b-df96-4d35-a042-2dfe247a9c64"
      },
      "execution_count": 405,
      "outputs": [
        {
          "output_type": "execute_result",
          "data": {
            "text/plain": [
              "(10, 300)"
            ]
          },
          "metadata": {},
          "execution_count": 405
        }
      ]
    },
    {
      "cell_type": "code",
      "source": [
        "def most_similar_words(decade,word):\n",
        "  distance = []\n",
        "  decade_words_embed = []\n",
        "  for w in data['w']:\n",
        "    if w != word:\n",
        "      decade_words_embed.append(data['E'][data['w'].index(w)][decade])\n",
        "  # for word in data['w']:\n",
        "  #   word_distance.append(1-cosine_similarity(data['E'][data['w'].index(word)][decade].reshape(1, -1),data['E'][data['w'].index(unchanged_word)][decade].reshape(1, -1))[0][0])\n",
        "  word_embed = data['E'][data['w'].index(word)][decade]\n",
        "  word_embed = np.array(word_embed).reshape(1,-1) #shape 1,300\n",
        "  decade_words_embed = np.array(decade_words_embed) #shape 2000*300\n",
        "  result = word_embed @ decade_words_embed.T\n",
        "  result = (-result).argsort()\n",
        "  results = result[:30]\n",
        "  result_words = []\n",
        "  for i in range(30):\n",
        "    result_words.append(data['w'][results[0][i]])\n",
        "  return result_words"
      ],
      "metadata": {
        "id": "I9LyX0OAiBk2"
      },
      "execution_count": 433,
      "outputs": []
    },
    {
      "cell_type": "code",
      "source": [
        "from sklearn.metrics import jaccard_score\n",
        "semantic_change = []\n",
        "for i in range(2000):\n",
        "  cosine_dist = []\n",
        "  print(i)\n",
        "  for j in range(1,len(data['d'])):\n",
        "    print(most_similar_words(j,data['w'][i]))\n",
        "    print(most_similar_words(j,data['w'][i-1]))\n",
        "    cosine_dist.append(jaccard_score(most_similar_words(j,data['w'][i]), most_similar_words(j,data['w'][i-1]), average='macro'))  \n",
        "  semantic_change.append(cosine_dist)"
      ],
      "metadata": {
        "id": "JLHkvUhbqd80"
      },
      "execution_count": null,
      "outputs": []
    },
    {
      "cell_type": "code",
      "source": [
        "semantic_change_eval = semantic_change"
      ],
      "metadata": {
        "id": "Cn275SCAqdL7"
      },
      "execution_count": 438,
      "outputs": []
    },
    {
      "cell_type": "code",
      "source": [
        "semantic_change_eval[500]"
      ],
      "metadata": {
        "colab": {
          "base_uri": "https://localhost:8080/"
        },
        "id": "5Bv2qSRO7NZN",
        "outputId": "b1afbb0c-921e-47cd-d251-1f17d19a567e"
      },
      "execution_count": 445,
      "outputs": [
        {
          "output_type": "execute_result",
          "data": {
            "text/plain": [
              "[0.0, 0.0, 0.0, 0.0, 0.0, 0.0, 0.0, 0.0, 0.0]"
            ]
          },
          "metadata": {},
          "execution_count": 445
        }
      ]
    },
    {
      "cell_type": "code",
      "source": [
        "semantic_change_mean = [statistics.mean(item) for item in semantic_change_eval]\n",
        "semantic_change_mean[:20]"
      ],
      "metadata": {
        "colab": {
          "base_uri": "https://localhost:8080/"
        },
        "id": "jTmH8tge8ji9",
        "outputId": "c83cc0a2-2644-4178-d922-6b6d6d20c730"
      },
      "execution_count": 474,
      "outputs": [
        {
          "output_type": "execute_result",
          "data": {
            "text/plain": [
              "[0.0,\n",
              " 0.0,\n",
              " 0.0,\n",
              " 0.0,\n",
              " 0.0,\n",
              " 0.0,\n",
              " 0.0,\n",
              " 0.0,\n",
              " 0.0,\n",
              " 0.004115226337448559,\n",
              " 0.004006930907515703,\n",
              " 0.0,\n",
              " 0.0,\n",
              " 0.0,\n",
              " 0.0038998357963875205,\n",
              " 0.0,\n",
              " 0.00819869430980542,\n",
              " 0.0,\n",
              " 0.0,\n",
              " 0.0]"
            ]
          },
          "metadata": {},
          "execution_count": 474
        }
      ]
    },
    {
      "cell_type": "code",
      "source": [
        "table_eval = [0 for i in range(3)]\n",
        "scores = [semantic_change_method1,semantic_change_method2,semantic_change_method3]\n",
        "for i in range(3):\n",
        "  table_eval[i]  = pearsonr(semantic_change_mean,scores[i])[0]"
      ],
      "metadata": {
        "id": "IakWiVWu5KXE"
      },
      "execution_count": 475,
      "outputs": []
    },
    {
      "cell_type": "code",
      "source": [
        "import pandas\n",
        "methods = [\"variance method\",\"average cosine distance from start\",\"average of top 3 distance from start\"] \n",
        "data_table = table_eval\n",
        "headers=methods\n",
        "pandas.DataFrame(data_table, headers)"
      ],
      "metadata": {
        "colab": {
          "base_uri": "https://localhost:8080/",
          "height": 143
        },
        "outputId": "a89edd22-9114-4281-d6ee-4cbfa3919a4f",
        "id": "sJX3tQqN5KXN"
      },
      "execution_count": 476,
      "outputs": [
        {
          "output_type": "execute_result",
          "data": {
            "text/html": [
              "\n",
              "  <div id=\"df-fbbba1f1-0334-42bb-a6e8-5325b3dee415\">\n",
              "    <div class=\"colab-df-container\">\n",
              "      <div>\n",
              "<style scoped>\n",
              "    .dataframe tbody tr th:only-of-type {\n",
              "        vertical-align: middle;\n",
              "    }\n",
              "\n",
              "    .dataframe tbody tr th {\n",
              "        vertical-align: top;\n",
              "    }\n",
              "\n",
              "    .dataframe thead th {\n",
              "        text-align: right;\n",
              "    }\n",
              "</style>\n",
              "<table border=\"1\" class=\"dataframe\">\n",
              "  <thead>\n",
              "    <tr style=\"text-align: right;\">\n",
              "      <th></th>\n",
              "      <th>0</th>\n",
              "    </tr>\n",
              "  </thead>\n",
              "  <tbody>\n",
              "    <tr>\n",
              "      <th>variance method</th>\n",
              "      <td>0.018633</td>\n",
              "    </tr>\n",
              "    <tr>\n",
              "      <th>average cosine distance from start</th>\n",
              "      <td>0.010856</td>\n",
              "    </tr>\n",
              "    <tr>\n",
              "      <th>average of top 3 distance from start</th>\n",
              "      <td>0.007229</td>\n",
              "    </tr>\n",
              "  </tbody>\n",
              "</table>\n",
              "</div>\n",
              "      <button class=\"colab-df-convert\" onclick=\"convertToInteractive('df-fbbba1f1-0334-42bb-a6e8-5325b3dee415')\"\n",
              "              title=\"Convert this dataframe to an interactive table.\"\n",
              "              style=\"display:none;\">\n",
              "        \n",
              "  <svg xmlns=\"http://www.w3.org/2000/svg\" height=\"24px\"viewBox=\"0 0 24 24\"\n",
              "       width=\"24px\">\n",
              "    <path d=\"M0 0h24v24H0V0z\" fill=\"none\"/>\n",
              "    <path d=\"M18.56 5.44l.94 2.06.94-2.06 2.06-.94-2.06-.94-.94-2.06-.94 2.06-2.06.94zm-11 1L8.5 8.5l.94-2.06 2.06-.94-2.06-.94L8.5 2.5l-.94 2.06-2.06.94zm10 10l.94 2.06.94-2.06 2.06-.94-2.06-.94-.94-2.06-.94 2.06-2.06.94z\"/><path d=\"M17.41 7.96l-1.37-1.37c-.4-.4-.92-.59-1.43-.59-.52 0-1.04.2-1.43.59L10.3 9.45l-7.72 7.72c-.78.78-.78 2.05 0 2.83L4 21.41c.39.39.9.59 1.41.59.51 0 1.02-.2 1.41-.59l7.78-7.78 2.81-2.81c.8-.78.8-2.07 0-2.86zM5.41 20L4 18.59l7.72-7.72 1.47 1.35L5.41 20z\"/>\n",
              "  </svg>\n",
              "      </button>\n",
              "      \n",
              "  <style>\n",
              "    .colab-df-container {\n",
              "      display:flex;\n",
              "      flex-wrap:wrap;\n",
              "      gap: 12px;\n",
              "    }\n",
              "\n",
              "    .colab-df-convert {\n",
              "      background-color: #E8F0FE;\n",
              "      border: none;\n",
              "      border-radius: 50%;\n",
              "      cursor: pointer;\n",
              "      display: none;\n",
              "      fill: #1967D2;\n",
              "      height: 32px;\n",
              "      padding: 0 0 0 0;\n",
              "      width: 32px;\n",
              "    }\n",
              "\n",
              "    .colab-df-convert:hover {\n",
              "      background-color: #E2EBFA;\n",
              "      box-shadow: 0px 1px 2px rgba(60, 64, 67, 0.3), 0px 1px 3px 1px rgba(60, 64, 67, 0.15);\n",
              "      fill: #174EA6;\n",
              "    }\n",
              "\n",
              "    [theme=dark] .colab-df-convert {\n",
              "      background-color: #3B4455;\n",
              "      fill: #D2E3FC;\n",
              "    }\n",
              "\n",
              "    [theme=dark] .colab-df-convert:hover {\n",
              "      background-color: #434B5C;\n",
              "      box-shadow: 0px 1px 3px 1px rgba(0, 0, 0, 0.15);\n",
              "      filter: drop-shadow(0px 1px 2px rgba(0, 0, 0, 0.3));\n",
              "      fill: #FFFFFF;\n",
              "    }\n",
              "  </style>\n",
              "\n",
              "      <script>\n",
              "        const buttonEl =\n",
              "          document.querySelector('#df-fbbba1f1-0334-42bb-a6e8-5325b3dee415 button.colab-df-convert');\n",
              "        buttonEl.style.display =\n",
              "          google.colab.kernel.accessAllowed ? 'block' : 'none';\n",
              "\n",
              "        async function convertToInteractive(key) {\n",
              "          const element = document.querySelector('#df-fbbba1f1-0334-42bb-a6e8-5325b3dee415');\n",
              "          const dataTable =\n",
              "            await google.colab.kernel.invokeFunction('convertToInteractive',\n",
              "                                                     [key], {});\n",
              "          if (!dataTable) return;\n",
              "\n",
              "          const docLinkHtml = 'Like what you see? Visit the ' +\n",
              "            '<a target=\"_blank\" href=https://colab.research.google.com/notebooks/data_table.ipynb>data table notebook</a>'\n",
              "            + ' to learn more about interactive tables.';\n",
              "          element.innerHTML = '';\n",
              "          dataTable['output_type'] = 'display_data';\n",
              "          await google.colab.output.renderOutput(dataTable, element);\n",
              "          const docLink = document.createElement('div');\n",
              "          docLink.innerHTML = docLinkHtml;\n",
              "          element.appendChild(docLink);\n",
              "        }\n",
              "      </script>\n",
              "    </div>\n",
              "  </div>\n",
              "  "
            ],
            "text/plain": [
              "                                             0\n",
              "variance method                       0.018633\n",
              "average cosine distance from start    0.010856\n",
              "average of top 3 distance from start  0.007229"
            ]
          },
          "metadata": {},
          "execution_count": 476
        }
      ]
    },
    {
      "cell_type": "code",
      "source": [
        "print('Top 20 changed words')\n",
        "for index in (-np.array(semantic_change_mean)).argsort()[:20]:\n",
        "  print(data['w'][index],semantic_change_mean[index])"
      ],
      "metadata": {
        "colab": {
          "base_uri": "https://localhost:8080/"
        },
        "id": "_ZJzbSrU9M-C",
        "outputId": "6f796b1b-c351-4734-fede-7447bb86dc4a"
      },
      "execution_count": 455,
      "outputs": [
        {
          "output_type": "stream",
          "name": "stdout",
          "text": [
            "Top 20 changed words\n",
            "diseases 0.03020907756668296\n",
            "charles 0.02722977459819565\n",
            "sand 0.026799253666782298\n",
            "edward 0.02341616245125017\n",
            "tail 0.01929286180750874\n",
            "illinois 0.017179962622838104\n",
            "protein 0.014505898977948668\n",
            "fingers 0.013003828450982923\n",
            "circuit 0.012241543177767385\n",
            "writers 0.01068999693984279\n",
            "weapons 0.010179770413688541\n",
            "year 0.009991216512955644\n",
            "council 0.009621304238281465\n",
            "test 0.008360398433773696\n",
            "secretary 0.00825863158778781\n",
            "fact 0.00819869430980542\n",
            "doubt 0.008120967083231234\n",
            "circulation 0.008044733044733044\n",
            "royal 0.007630365608156373\n",
            "minnesota 0.007055424218544786\n"
          ]
        }
      ]
    },
    {
      "cell_type": "markdown",
      "source": [
        "####Method 3: comparing the most related words with matrix multiplication"
      ],
      "metadata": {
        "id": "vtcKXGSgBmkp"
      }
    },
    {
      "cell_type": "code",
      "source": [
        "def most_similar_words_matmul(decade):\n",
        "  distance = []\n",
        "  decade_words_embed = []\n",
        "  for w in data['w']:\n",
        "    decade_words_embed.append(data['E'][data['w'].index(w)][decade])\n",
        "  # for word in data['w']:\n",
        "  #   word_distance.append(1-cosine_similarity(data['E'][data['w'].index(word)][decade].reshape(1, -1),data['E'][data['w'].index(unchanged_word)][decade].reshape(1, -1))[0][0])\n",
        "  # word_embed = data['E'][data['w'].index(word)][decade]\n",
        "  # word_embed = np.array(word_embed).reshape(1,-1) #shape 1,300\n",
        "  decade_words_embed = sklearn.preprocessing.normalize(np.array(decade_words_embed),norm=\"l2\") #shape 2000*300\n",
        "  result = decade_words_embed @ decade_words_embed.T\n",
        "  result = (-result).argsort()\n",
        "  results = result #2000*2000\n",
        "  result_words = []\n",
        "  for j in range(2000):\n",
        "    word_similars=[]\n",
        "    for i in range(30):\n",
        "      word_similars.append(data['w'][results[j][i]])\n",
        "    result_words.append(word_similars)  \n",
        "  return result_words"
      ],
      "metadata": {
        "id": "cCWRh5oe9iAT"
      },
      "execution_count": 98,
      "outputs": []
    },
    {
      "cell_type": "code",
      "source": [
        "from sklearn.metrics import jaccard_score\n",
        "semantic_change = []\n",
        "for j in range(1,len(data['d'])): \n",
        "  result_words_1 =  most_similar_words_matmul(j)\n",
        "  result_words_2 =  most_similar_words_matmul(j-1)\n",
        "  print(set(result_words_1[j]))\n",
        "  print(set(result_words_2[j]))\n",
        "  print(len(set(result_words_1[0]).intersection(set(result_words_2[0]))))\n",
        "  print(j)\n",
        "  similar_words_size = []\n",
        "  for i in range(2000):\n",
        "    similar_words_size.append(1-len(set(result_words_1[i]).intersection(set(result_words_2[i])))/30) \n",
        "  semantic_change.append(similar_words_size)"
      ],
      "metadata": {
        "colab": {
          "base_uri": "https://localhost:8080/"
        },
        "id": "Q_yctg-NDXOX",
        "outputId": "d51609ef-1c46-4973-e87f-700f17195885"
      },
      "execution_count": 99,
      "outputs": [
        {
          "output_type": "stream",
          "name": "stdout",
          "text": [
            "{'son', 'world', 'race', 'god', 'soldier', 'animal', 'gentleman', 'hero', 'priest', 'courage', 'soul', 'anyone', 'girl', 'lady', 'woman', 'father', 'dog', 'servant', 'man', 'fool', 'boy', 'thing', 'artist', 'stranger', 'person', 'men', 'friend', 'wife', 'citizen', 'lawyer'}\n",
            "{'someone', 'soldier', 'animal', 'gentleman', 'love', 'priest', 'poet', 'soul', 'girl', 'woman', 'doctor', 'dog', 'man', 'fool', 'everyone', 'thing', 'boy', 'artist', 'child', 'stranger', 'conscience', 'personality', 'person', 'men', 'wife', 'friend', 'mind', 'citizen', 'husband', 'lawyer'}\n",
            "21\n",
            "1\n",
            "{'months', 'week', 'decade', 'days', 'period', 'decades', 'century', 'generations', 'summer', 'ages', 'year', 'dollars', 'reign', 'quarter', 'boy', 'periods', 'minutes', 'death', 'age', 'month', 'date', 'couple', 'residence', 'weeks', 'millions', 'centuries', 'time', 'hours', 'war', 'years'}\n",
            "{'months', 'term', 'week', 'decade', 'days', 'period', 'january', 'decades', 'century', 'september', 'december', 'generations', 'ages', 'year', 'prison', 'november', 'imprisonment', 'june', 'reign', 'periods', 'minutes', 'age', 'date', 'month', 'weeks', 'centuries', 'time', 'hours', 'years', 'day'}\n",
            "24\n",
            "2\n",
            "{'feature', 'leaders', 'expense', 'portion', 'attitude', 'role', 'group', 'fraction', 'portions', 'conduct', 'bulk', 'responsibility', 'share', 'remainder', 'citizens', 'life', 'failure', 'parts', 'work', 'part', 'scheme', 'book', 'region', 'participation', 'aspect', 'component', 'continent', 'middle', 'rest', 'element'}\n",
            "{'feature', 'movement', 'body', 'border', 'province', 'area', 'portion', 'role', 'acts', 'portions', 'representative', 'campaign', 'bulk', 'operations', 'remainder', 'section', 'operation', 'parts', 'part', 'interference', 'region', 'participation', 'government', 'management', 'aspect', 'territory', 'component', 'continent', 'middle', 'element'}\n",
            "22\n",
            "3\n",
            "{'someone', 'sort', 'everything', 'anything', 'direction', 'train', 'step', 'ways', 'block', 'chance', 'route', 'problem', 'car', 'manner', 'passage', 'road', 'respects', 'stairs', 'drive', 'thing', 'difficulty', 'way', 'difficulties', 'path', 'goal', 'fashion', 'steps', 'nothing', 'method', 'mode'}\n",
            "{'trip', 'river', 'things', 'approach', 'smile', 'direction', 'hope', 'step', 'kind', 'salvation', 'ways', 'chance', 'route', 'manner', 'passage', 'road', 'woods', 'journey', 'channel', 'harm', 'thing', 'difficulty', 'way', 'difficulties', 'path', 'mountains', 'goal', 'fashion', 'something', 'mode'}\n",
            "23\n",
            "4\n",
            "{'cycle', 'family', 'humanity', 'community', 'jesus', 'hero', 'spirit', 'midst', 'soul', 'survival', 'struggle', 'aspects', 'john', 'life', 'youth', 'environment', 'death', 'career', 'reality', 'lives', 'civilization', 'child', 'joy', 'happiness', 'poverty', 'childhood', 'phases', 'habits', 'insurance', 'years'}\n",
            "{'cycle', 'community', 'conception', 'animal', 'salvation', 'prosperity', 'soul', 'comfort', 'story', 'history', 'survival', 'aspects', 'mankind', 'man', 'universe', 'life', 'evolution', 'environment', 'youth', 'death', 'career', 'lives', 'child', 'happiness', 'personality', 'health', 'childhood', 'habits', 'aspect', 'welfare'}\n",
            "21\n",
            "5\n",
            "{'leaders', 'majority', 'sympathy', 'natives', 'christians', 'thousands', 'peoples', 'americans', 'hearts', 'minds', 'country', 'women', 'workers', 'mankind', 'citizens', 'everyone', 'hundreds', 'inhabitants', 'beings', 'lot', 'masses', 'lives', 'jews', 'persons', 'millions', 'peasants', 'men', 'farmers', 'crowd', 'people'}\n",
            "{'leaders', 'majority', 'indians', 'community', 'natives', 'soldiers', 'christians', 'thousands', 'peoples', 'americans', 'communities', 'children', 'interests', 'women', 'workers', 'individuals', 'citizens', 'everyone', 'inhabitants', 'beings', 'republic', 'masses', 'lives', 'jews', 'millions', 'peasants', 'nation', 'men', 'citizen', 'people'}\n",
            "22\n",
            "6\n",
            "{'task', 'project', 'completion', 'factory', 'field', 'job', 'study', 'jobs', 'painting', 'workers', 'satisfaction', 'works', 'farm', 'school', 'life', 'shop', 'program', 'work', 'artist', 'career', 'way', 'fields', 'effort', 'projects', 'efforts', 'teaching', 'hours', 'construction', 'aim', 'detail'}\n",
            "{'someone', 'task', 'performance', 'project', 'kind', 'aim', 'worker', 'factory', 'activities', 'field', 'job', 'study', 'painting', 'skill', 'labour', 'workers', 'team', 'students', 'works', 'shop', 'achievement', 'work', 'artist', 'career', 'effort', 'efforts', 'teaching', 'art', 'training', 'teacher'}\n",
            "23\n",
            "7\n",
            "{'today', 'decade', 'world', 'states', 'peoples', 'nations', 'society', 'kingdom', 'cities', 'country', 'wars', 'countries', 'empire', 'creation', 'africa', 'mankind', 'universe', 'parts', 'environment', 'asia', 'beings', 'japan', 'britain', 'europe', 'nation', 'continent', 'war', 'ii', 'realm', 'armies'}\n",
            "{'outbreak', 'events', 'decade', 'world', 'markets', 'peoples', 'nations', 'cities', 'eve', 'country', 'wars', 'earth', 'countries', 'creation', 'america', 'africa', 'mankind', 'universe', 'parts', 'asia', 'japan', 'politics', 'reality', 'europe', 'era', 'nation', 'continent', 'experience', 'war', 'ii'}\n",
            "21\n",
            "8\n",
            "{'governments', 'states', 'allies', 'firms', 'nations', 'territories', 'united', 'kingdom', 'cities', 'country', 'mexico', 'germany', 'countries', 'commonwealth', 'congress', 'america', 'canada', 'citizens', 'appeals', 'courts', 'provinces', 'japan', 'supreme', 'russia', 'washington', 'britain', 'europe', 'government', 'union', 'representatives'}\n",
            "{'governments', 'indies', 'states', 'allies', 'nations', 'territories', 'west', 'united', 'kingdom', 'country', 'germany', 'exports', 'countries', 'commonwealth', 'australia', 'america', 'congress', 'canada', 'citizens', 'appeals', 'provinces', 'japan', 'britain', 'colonies', 'europe', 'union', 'coast', 'senate', 'territory', 'imports'}\n",
            "25\n",
            "9\n"
          ]
        }
      ]
    },
    {
      "cell_type": "code",
      "source": [
        "semantic_change_test = np.array(semantic_change).T\n",
        "semantic_change_test.shape"
      ],
      "metadata": {
        "colab": {
          "base_uri": "https://localhost:8080/"
        },
        "id": "97oUrKNbGnvF",
        "outputId": "573bba0f-c3c0-41e4-9b7b-86c0a732dbd9"
      },
      "execution_count": 100,
      "outputs": [
        {
          "output_type": "execute_result",
          "data": {
            "text/plain": [
              "(2000, 9)"
            ]
          },
          "metadata": {},
          "execution_count": 100
        }
      ]
    },
    {
      "cell_type": "code",
      "source": [
        "semantic_change_test[5]"
      ],
      "metadata": {
        "colab": {
          "base_uri": "https://localhost:8080/"
        },
        "id": "2nm3AU0AK3Du",
        "outputId": "1a726e1a-6ff5-49f1-fbd2-3c922746ab77"
      },
      "execution_count": 101,
      "outputs": [
        {
          "output_type": "execute_result",
          "data": {
            "text/plain": [
              "array([0.46666667, 0.36666667, 0.4       , 0.5       , 0.5       ,\n",
              "       0.46666667, 0.5       , 0.46666667, 0.33333333])"
            ]
          },
          "metadata": {},
          "execution_count": 101
        }
      ]
    },
    {
      "cell_type": "code",
      "source": [
        "semantic_change_test=semantic_change_test.sum(axis=1)\n",
        "semantic_change_test.shape"
      ],
      "metadata": {
        "colab": {
          "base_uri": "https://localhost:8080/"
        },
        "id": "nOC_mepZHnG5",
        "outputId": "6f2c3cbd-5242-4dbc-9c4c-79ce69070527"
      },
      "execution_count": 102,
      "outputs": [
        {
          "output_type": "execute_result",
          "data": {
            "text/plain": [
              "(2000,)"
            ]
          },
          "metadata": {},
          "execution_count": 102
        }
      ]
    },
    {
      "cell_type": "code",
      "source": [
        "semantic_change_test[:20]"
      ],
      "metadata": {
        "colab": {
          "base_uri": "https://localhost:8080/"
        },
        "id": "wmCmJtHoKvzF",
        "outputId": "f8ccf1b3-3175-41e2-bd79-c6538cb4f8b9"
      },
      "execution_count": 103,
      "outputs": [
        {
          "output_type": "execute_result",
          "data": {
            "text/plain": [
              "array([2.26666667, 2.46666667, 2.1       , 4.33333333, 3.86666667,\n",
              "       4.        , 2.5       , 3.83333333, 2.93333333, 2.83333333,\n",
              "       3.6       , 0.96666667, 2.7       , 2.4       , 2.53333333,\n",
              "       3.53333333, 3.6       , 3.3       , 2.16666667, 4.6       ])"
            ]
          },
          "metadata": {},
          "execution_count": 103
        }
      ]
    },
    {
      "cell_type": "code",
      "source": [
        "table_eval = [0 for i in range(3)]\n",
        "scores = [semantic_change_method1,semantic_change_method2,semantic_change_method3]\n",
        "for i in range(3):\n",
        "  table_eval[i]  = pearsonr(semantic_change_test,scores[i])[0]"
      ],
      "metadata": {
        "id": "ZiFkRQJWKjjp"
      },
      "execution_count": 104,
      "outputs": []
    },
    {
      "cell_type": "code",
      "source": [
        "import pandas\n",
        "methods = [\"variance method\",\"average cosine distance from start\",\"average of top 3 distance from start\"] \n",
        "data_table = table_eval\n",
        "headers=methods\n",
        "pandas.DataFrame(data_table, headers)"
      ],
      "metadata": {
        "colab": {
          "base_uri": "https://localhost:8080/",
          "height": 0
        },
        "outputId": "7d98bda7-fa09-4876-db55-15f7c629dc72",
        "id": "jzeujIZIKjjp"
      },
      "execution_count": 105,
      "outputs": [
        {
          "output_type": "execute_result",
          "data": {
            "text/html": [
              "\n",
              "  <div id=\"df-193d75f0-c983-4ab9-9266-00e132b63d7e\">\n",
              "    <div class=\"colab-df-container\">\n",
              "      <div>\n",
              "<style scoped>\n",
              "    .dataframe tbody tr th:only-of-type {\n",
              "        vertical-align: middle;\n",
              "    }\n",
              "\n",
              "    .dataframe tbody tr th {\n",
              "        vertical-align: top;\n",
              "    }\n",
              "\n",
              "    .dataframe thead th {\n",
              "        text-align: right;\n",
              "    }\n",
              "</style>\n",
              "<table border=\"1\" class=\"dataframe\">\n",
              "  <thead>\n",
              "    <tr style=\"text-align: right;\">\n",
              "      <th></th>\n",
              "      <th>0</th>\n",
              "    </tr>\n",
              "  </thead>\n",
              "  <tbody>\n",
              "    <tr>\n",
              "      <th>variance method</th>\n",
              "      <td>0.108786</td>\n",
              "    </tr>\n",
              "    <tr>\n",
              "      <th>average cosine distance from start</th>\n",
              "      <td>0.271506</td>\n",
              "    </tr>\n",
              "    <tr>\n",
              "      <th>average of top 3 distance from start</th>\n",
              "      <td>0.309822</td>\n",
              "    </tr>\n",
              "  </tbody>\n",
              "</table>\n",
              "</div>\n",
              "      <button class=\"colab-df-convert\" onclick=\"convertToInteractive('df-193d75f0-c983-4ab9-9266-00e132b63d7e')\"\n",
              "              title=\"Convert this dataframe to an interactive table.\"\n",
              "              style=\"display:none;\">\n",
              "        \n",
              "  <svg xmlns=\"http://www.w3.org/2000/svg\" height=\"24px\"viewBox=\"0 0 24 24\"\n",
              "       width=\"24px\">\n",
              "    <path d=\"M0 0h24v24H0V0z\" fill=\"none\"/>\n",
              "    <path d=\"M18.56 5.44l.94 2.06.94-2.06 2.06-.94-2.06-.94-.94-2.06-.94 2.06-2.06.94zm-11 1L8.5 8.5l.94-2.06 2.06-.94-2.06-.94L8.5 2.5l-.94 2.06-2.06.94zm10 10l.94 2.06.94-2.06 2.06-.94-2.06-.94-.94-2.06-.94 2.06-2.06.94z\"/><path d=\"M17.41 7.96l-1.37-1.37c-.4-.4-.92-.59-1.43-.59-.52 0-1.04.2-1.43.59L10.3 9.45l-7.72 7.72c-.78.78-.78 2.05 0 2.83L4 21.41c.39.39.9.59 1.41.59.51 0 1.02-.2 1.41-.59l7.78-7.78 2.81-2.81c.8-.78.8-2.07 0-2.86zM5.41 20L4 18.59l7.72-7.72 1.47 1.35L5.41 20z\"/>\n",
              "  </svg>\n",
              "      </button>\n",
              "      \n",
              "  <style>\n",
              "    .colab-df-container {\n",
              "      display:flex;\n",
              "      flex-wrap:wrap;\n",
              "      gap: 12px;\n",
              "    }\n",
              "\n",
              "    .colab-df-convert {\n",
              "      background-color: #E8F0FE;\n",
              "      border: none;\n",
              "      border-radius: 50%;\n",
              "      cursor: pointer;\n",
              "      display: none;\n",
              "      fill: #1967D2;\n",
              "      height: 32px;\n",
              "      padding: 0 0 0 0;\n",
              "      width: 32px;\n",
              "    }\n",
              "\n",
              "    .colab-df-convert:hover {\n",
              "      background-color: #E2EBFA;\n",
              "      box-shadow: 0px 1px 2px rgba(60, 64, 67, 0.3), 0px 1px 3px 1px rgba(60, 64, 67, 0.15);\n",
              "      fill: #174EA6;\n",
              "    }\n",
              "\n",
              "    [theme=dark] .colab-df-convert {\n",
              "      background-color: #3B4455;\n",
              "      fill: #D2E3FC;\n",
              "    }\n",
              "\n",
              "    [theme=dark] .colab-df-convert:hover {\n",
              "      background-color: #434B5C;\n",
              "      box-shadow: 0px 1px 3px 1px rgba(0, 0, 0, 0.15);\n",
              "      filter: drop-shadow(0px 1px 2px rgba(0, 0, 0, 0.3));\n",
              "      fill: #FFFFFF;\n",
              "    }\n",
              "  </style>\n",
              "\n",
              "      <script>\n",
              "        const buttonEl =\n",
              "          document.querySelector('#df-193d75f0-c983-4ab9-9266-00e132b63d7e button.colab-df-convert');\n",
              "        buttonEl.style.display =\n",
              "          google.colab.kernel.accessAllowed ? 'block' : 'none';\n",
              "\n",
              "        async function convertToInteractive(key) {\n",
              "          const element = document.querySelector('#df-193d75f0-c983-4ab9-9266-00e132b63d7e');\n",
              "          const dataTable =\n",
              "            await google.colab.kernel.invokeFunction('convertToInteractive',\n",
              "                                                     [key], {});\n",
              "          if (!dataTable) return;\n",
              "\n",
              "          const docLinkHtml = 'Like what you see? Visit the ' +\n",
              "            '<a target=\"_blank\" href=https://colab.research.google.com/notebooks/data_table.ipynb>data table notebook</a>'\n",
              "            + ' to learn more about interactive tables.';\n",
              "          element.innerHTML = '';\n",
              "          dataTable['output_type'] = 'display_data';\n",
              "          await google.colab.output.renderOutput(dataTable, element);\n",
              "          const docLink = document.createElement('div');\n",
              "          docLink.innerHTML = docLinkHtml;\n",
              "          element.appendChild(docLink);\n",
              "        }\n",
              "      </script>\n",
              "    </div>\n",
              "  </div>\n",
              "  "
            ],
            "text/plain": [
              "                                             0\n",
              "variance method                       0.108786\n",
              "average cosine distance from start    0.271506\n",
              "average of top 3 distance from start  0.309822"
            ]
          },
          "metadata": {},
          "execution_count": 105
        }
      ]
    },
    {
      "cell_type": "markdown",
      "source": [
        "We see that the top 3 distance from start has the best corrolation to our evaluation"
      ],
      "metadata": {
        "id": "72RGYsYAPBlA"
      }
    },
    {
      "cell_type": "markdown",
      "source": [
        "###Step 4"
      ],
      "metadata": {
        "id": "ApKr7daePxBc"
      }
    },
    {
      "cell_type": "code",
      "source": [
        "print('Top 3 changed words')\n",
        "top3_words = []\n",
        "for index in (-np.array(semantic_change_method3)).argsort()[:3]:\n",
        "  print(data['w'][index])\n",
        "  top3_words.append(data['w'][index])"
      ],
      "metadata": {
        "colab": {
          "base_uri": "https://localhost:8080/"
        },
        "id": "OPCK0_wZJ-49",
        "outputId": "cb777304-e84d-4b5e-e9ae-ab98efa66470"
      },
      "execution_count": 106,
      "outputs": [
        {
          "output_type": "stream",
          "name": "stdout",
          "text": [
            "Top 3 changed words\n",
            "skills\n",
            "ml\n",
            "techniques\n"
          ]
        }
      ]
    },
    {
      "cell_type": "code",
      "source": [
        "semantic_change_top3 = []\n",
        "print(data['E'][data['w'].index('skills')][0][:5])\n",
        "for word in top3_words:\n",
        "  cosine_dist = []\n",
        "  cosine_dist.append(0)\n",
        "  cosine_dist.append(0)\n",
        "  print(word)\n",
        "  for j in range(3,len(data['d'])):\n",
        "    print(data['d'][j])\n",
        "    # print(data['w'].index(word))\n",
        "    # print('sum',np.array(data['E'][data['w'].index(word)][j]).reshape(1, -1).sum())\n",
        "    # print(cosine_similarity(data['E'][data['w'].index(word)][0].reshape(1, -1),data['E'][data['w'].index(word)][j].reshape(1, -1)))\n",
        "    cosine_dist.append(1-cosine_similarity(np.array(data['E'][data['w'].index(word)][2]).reshape(1, -1),np.array((data['E'][data['w'].index(word)][j]).reshape(1, -1)))[0][0])\n",
        "    # print(cosine_similarity(np.array(data['E'][data['w'].index(word)][2]).reshape(1, -1),np.array((data['E'][data['w'].index(word)][j]).reshape(1, -1)))[0][0])\n",
        "  semantic_change_top3.append(cosine_dist)"
      ],
      "metadata": {
        "colab": {
          "base_uri": "https://localhost:8080/"
        },
        "id": "0Uj7vTrgRpZZ",
        "outputId": "2c98d032-f002-4a80-91c0-ded6551c1651"
      },
      "execution_count": 107,
      "outputs": [
        {
          "output_type": "stream",
          "name": "stdout",
          "text": [
            "[0. 0. 0. 0. 0.]\n",
            "skills\n",
            "1930\n",
            "1940\n",
            "1950\n",
            "1960\n",
            "1970\n",
            "1980\n",
            "1990\n",
            "ml\n",
            "1930\n",
            "1940\n",
            "1950\n",
            "1960\n",
            "1970\n",
            "1980\n",
            "1990\n",
            "techniques\n",
            "1930\n",
            "1940\n",
            "1950\n",
            "1960\n",
            "1970\n",
            "1980\n",
            "1990\n"
          ]
        }
      ]
    },
    {
      "cell_type": "code",
      "source": [
        "years = [1910,1920,1930,1940,1950,1960,1970,1980,1990]\n"
      ],
      "metadata": {
        "id": "nb8D4bjpSUCO"
      },
      "execution_count": 111,
      "outputs": []
    },
    {
      "cell_type": "code",
      "source": [
        "semantic_change_top3"
      ],
      "metadata": {
        "colab": {
          "base_uri": "https://localhost:8080/"
        },
        "id": "7RJW7s3AV1Np",
        "outputId": "685eb515-a627-46df-b142-109b79f82c74"
      },
      "execution_count": 112,
      "outputs": [
        {
          "output_type": "execute_result",
          "data": {
            "text/plain": [
              "[[0,\n",
              "  0,\n",
              "  0.39087217233130056,\n",
              "  0.40261565074152195,\n",
              "  0.4007335257646547,\n",
              "  0.45767595461033206,\n",
              "  0.48493214004259033,\n",
              "  0.4987000689064539,\n",
              "  0.5052445150899976],\n",
              " [0,\n",
              "  0,\n",
              "  0.4171531396274588,\n",
              "  0.48294733632645015,\n",
              "  0.5069853489946805,\n",
              "  0.4913651919227341,\n",
              "  0.6293338412392544,\n",
              "  0.624603279076609,\n",
              "  0.6570693705159236],\n",
              " [0,\n",
              "  0,\n",
              "  0.5249691673651552,\n",
              "  0.4813709995037666,\n",
              "  0.5232668933511144,\n",
              "  0.5526487764047002,\n",
              "  0.5552169456204501,\n",
              "  0.5912774314607134,\n",
              "  0.6071627391174509]]"
            ]
          },
          "metadata": {},
          "execution_count": 112
        }
      ]
    },
    {
      "cell_type": "code",
      "source": [
        "semantic_change_top3_points = []\n",
        "semantic_change_top3_points_changes = []\n",
        "for word in semantic_change_top3:\n",
        "  changes_diff=[word[i]-word[i-1] for i in range(1,len(word))]\n",
        "  semantic_change_top3_points_changes.append(changes_diff)\n",
        "  changes = np.array(changes_diff)\n",
        "  semantic_change_top3_points.append(changes.argsort())\n",
        "semantic_change_top3_points"
      ],
      "metadata": {
        "colab": {
          "base_uri": "https://localhost:8080/"
        },
        "id": "L6GiPsBoj6gB",
        "outputId": "442b2e5c-297a-4170-f8fa-888ef989831e"
      },
      "execution_count": 149,
      "outputs": [
        {
          "output_type": "execute_result",
          "data": {
            "text/plain": [
              "[array([3, 0, 7, 2, 6, 5, 4, 1]),\n",
              " array([4, 6, 0, 3, 7, 2, 5, 1]),\n",
              " array([2, 0, 5, 7, 4, 6, 3, 1])]"
            ]
          },
          "metadata": {},
          "execution_count": 149
        }
      ]
    },
    {
      "cell_type": "code",
      "source": [
        "points_index = []\n",
        "for item in semantic_change_top3_points:\n",
        "  points_index.append(item[-3:-1])\n",
        "points_index\n"
      ],
      "metadata": {
        "colab": {
          "base_uri": "https://localhost:8080/"
        },
        "id": "L2F_vQ0OpYg3",
        "outputId": "b2285d9a-3126-44f5-c500-4a76780f15ef"
      },
      "execution_count": 150,
      "outputs": [
        {
          "output_type": "execute_result",
          "data": {
            "text/plain": [
              "[array([5, 4]), array([2, 5]), array([6, 3])]"
            ]
          },
          "metadata": {},
          "execution_count": 150
        }
      ]
    },
    {
      "cell_type": "code",
      "source": [
        "semantic_change_top3_points_changes"
      ],
      "metadata": {
        "colab": {
          "base_uri": "https://localhost:8080/"
        },
        "id": "fK4ul_EYncH7",
        "outputId": "49153b8e-383c-48ba-c49b-27950199e1e7"
      },
      "execution_count": 151,
      "outputs": [
        {
          "output_type": "execute_result",
          "data": {
            "text/plain": [
              "[[0,\n",
              "  0.39087217233130056,\n",
              "  0.011743478410221386,\n",
              "  -0.0018821249768672388,\n",
              "  0.05694242884567735,\n",
              "  0.027256185432258273,\n",
              "  0.013767928863863577,\n",
              "  0.006544446183543662],\n",
              " [0,\n",
              "  0.4171531396274588,\n",
              "  0.06579419669899134,\n",
              "  0.024038012668230357,\n",
              "  -0.015620157071946417,\n",
              "  0.1379686493165203,\n",
              "  -0.004730562162645446,\n",
              "  0.03246609143931467],\n",
              " [0,\n",
              "  0.5249691673651552,\n",
              "  -0.04359816786138859,\n",
              "  0.04189589384734782,\n",
              "  0.0293818830535858,\n",
              "  0.0025681692157498714,\n",
              "  0.036060485840263334,\n",
              "  0.015885307656737457]]"
            ]
          },
          "metadata": {},
          "execution_count": 151
        }
      ]
    },
    {
      "cell_type": "code",
      "source": [
        "points_index[0][0]+1"
      ],
      "metadata": {
        "colab": {
          "base_uri": "https://localhost:8080/"
        },
        "id": "AyPT2gH1rr_u",
        "outputId": "eb0772b1-953b-440d-a92e-e64a0baad14a"
      },
      "execution_count": 152,
      "outputs": [
        {
          "output_type": "execute_result",
          "data": {
            "text/plain": [
              "6"
            ]
          },
          "metadata": {},
          "execution_count": 152
        }
      ]
    },
    {
      "cell_type": "code",
      "source": [
        "import matplotlib.pyplot as plt\n",
        "x = years\n",
        "\n",
        "y = semantic_change_top3[0]\n",
        "plt.plot(x, y)\n",
        "x_changes =[x[points_index[0][0]],x[points_index[0][1]]]\n",
        "y_changes = [y[points_index[0][0]],y[points_index[0][1]]]\n",
        "print(x_changes)\n",
        "print(y_changes)\n",
        "plt.scatter(x_changes,y_changes)\n",
        "plt.xlabel('year')\n",
        "# naming the y axis\n",
        "plt.ylabel('semantic distance from start')\n",
        " \n",
        "# giving a title to my graph\n",
        "plt.title('Semantic distance of word \"skills\"')\n",
        " \n",
        "# function to show the plot\n",
        "plt.show()"
      ],
      "metadata": {
        "colab": {
          "base_uri": "https://localhost:8080/",
          "height": 332
        },
        "id": "XC3rs9sYVJ_X",
        "outputId": "44d49f2e-621e-4f84-e84b-a6eb9641b9ca"
      },
      "execution_count": 153,
      "outputs": [
        {
          "output_type": "stream",
          "name": "stdout",
          "text": [
            "[1960, 1950]\n",
            "[0.45767595461033206, 0.4007335257646547]\n"
          ]
        },
        {
          "output_type": "display_data",
          "data": {
            "image/png": "[encoded data removed]",
            "text/plain": [
              "<Figure size 432x288 with 1 Axes>"
            ]
          },
          "metadata": {
            "needs_background": "light"
          }
        }
      ]
    },
    {
      "cell_type": "code",
      "source": [
        "import matplotlib.pyplot as plt\n",
        "x = years\n",
        "y = semantic_change_top3[1]\n",
        "plt.plot(x, y)\n",
        "x_changes =[x[points_index[1][0]],x[points_index[1][1]]]\n",
        "y_changes = [y[points_index[1][0]],y[points_index[1][1]]]\n",
        "print(x_changes)\n",
        "print(y_changes)\n",
        "plt.scatter(x_changes,y_changes)\n",
        "plt.xlabel('year')\n",
        "# naming the y axis\n",
        "plt.ylabel('semantic distance from start')\n",
        " \n",
        "# giving a title to my graph\n",
        "plt.title('Semantic distance of word \"skills\"')\n",
        " \n",
        "# function to show the plot\n",
        "plt.show()"
      ],
      "metadata": {
        "colab": {
          "base_uri": "https://localhost:8080/",
          "height": 332
        },
        "id": "dOQztl6tViFQ",
        "outputId": "62a2960e-a02a-4374-a370-568367bf6f00"
      },
      "execution_count": 154,
      "outputs": [
        {
          "output_type": "stream",
          "name": "stdout",
          "text": [
            "[1930, 1960]\n",
            "[0.4171531396274588, 0.4913651919227341]\n"
          ]
        },
        {
          "output_type": "display_data",
          "data": {
            "image/png": "[encoded data removed]",
            "text/plain": [
              "<Figure size 432x288 with 1 Axes>"
            ]
          },
          "metadata": {
            "needs_background": "light"
          }
        }
      ]
    },
    {
      "cell_type": "code",
      "source": [
        "import matplotlib.pyplot as plt\n",
        "x = years\n",
        "y = semantic_change_top3[2]\n",
        "plt.plot(x, y)\n",
        "x_changes =[x[points_index[2][0]],x[points_index[2][1]]]\n",
        "y_changes = [y[points_index[2][0]],y[points_index[2][1]]]\n",
        "plt.scatter(x_changes,y_changes)\n",
        "print(x_changes)\n",
        "print(y_changes)\n",
        "plt.xlabel('year')\n",
        "# naming the y axis\n",
        "plt.ylabel('semantic distance from start')\n",
        " \n",
        "# giving a title to my graph\n",
        "plt.title('Semantic distance of word \"skills\"')\n",
        " \n",
        "# function to show the plot\n",
        "plt.show()"
      ],
      "metadata": {
        "colab": {
          "base_uri": "https://localhost:8080/",
          "height": 332
        },
        "id": "BMy8jJCoXAVa",
        "outputId": "e8be7afa-3c31-4489-ffad-4674959c15c5"
      },
      "execution_count": 155,
      "outputs": [
        {
          "output_type": "stream",
          "name": "stdout",
          "text": [
            "[1970, 1940]\n",
            "[0.5552169456204501, 0.4813709995037666]\n"
          ]
        },
        {
          "output_type": "display_data",
          "data": {
            "image/png": "[encoded data removed]",
            "text/plain": [
              "<Figure size 432x288 with 1 Axes>"
            ]
          },
          "metadata": {
            "needs_background": "light"
          }
        }
      ]
    }
  ]
}